{
 "cells": [
  {
   "cell_type": "code",
   "execution_count": 2,
   "metadata": {
    "collapsed": true
   },
   "outputs": [],
   "source": [
    "%matplotlib inline\n",
    "import random\n",
    "import numpy as np\n",
    "import matplotlib.pylab as plt\n",
    "import os\n",
    "os.environ[\"DJANGO_SETTINGS_MODULE\"] = \"analyzer.settings\"\n",
    "import sys"
   ]
  },
  {
   "cell_type": "code",
   "execution_count": 3,
   "metadata": {
    "collapsed": true
   },
   "outputs": [],
   "source": [
    "import django\n",
    "django.setup()"
   ]
  },
  {
   "cell_type": "code",
   "execution_count": 4,
   "metadata": {
    "collapsed": true
   },
   "outputs": [],
   "source": [
    "from record.models import User, Group, Summary"
   ]
  },
  {
   "cell_type": "code",
   "execution_count": 5,
   "metadata": {
    "collapsed": true
   },
   "outputs": [],
   "source": [
    "import datetime\n",
    "from datetime import timedelta"
   ]
  },
  {
   "cell_type": "code",
   "execution_count": 6,
   "metadata": {
    "collapsed": true
   },
   "outputs": [],
   "source": [
    "import pickle"
   ]
  },
  {
   "cell_type": "code",
   "execution_count": 7,
   "metadata": {
    "collapsed": true
   },
   "outputs": [],
   "source": [
    "from sklearn.preprocessing import normalize\n",
    "from sklearn.cluster import MeanShift, estimate_bandwidth"
   ]
  },
  {
   "cell_type": "code",
   "execution_count": 49,
   "metadata": {
    "collapsed": true
   },
   "outputs": [],
   "source": [
    "from sklearn.preprocessing import normalize\n",
    "from sklearn.cluster import MeanShift, estimate_bandwidth"
   ]
  },
  {
   "cell_type": "code",
   "execution_count": 8,
   "metadata": {
    "collapsed": false
   },
   "outputs": [],
   "source": [
    "# pickleからデータを開く\n",
    "with open('kampo_list.pickle', mode='rb') as f:\n",
    "    keme = pickle.load(f)\n",
    "# group.name, user_count, start_day, user.username, steps, distance, kampo, step1, step2, ... , step10"
   ]
  },
  {
   "cell_type": "markdown",
   "metadata": {},
   "source": [
    "# チーム内で、個々の総歩行距離の割合をとって、それをクラスタリングする"
   ]
  },
  {
   "cell_type": "code",
   "execution_count": 48,
   "metadata": {
    "collapsed": false
   },
   "outputs": [],
   "source": [
    "i = 0\n",
    "five_teams = np.array([[]])\n",
    "three_teams = np.array([[]])\n",
    "while i < len(keme):\n",
    "    # 同じチームの人を抜き出す\n",
    "    hoge = keme[ np.where(keme[:, 0] == keme[i, 0]), : ]\n",
    "    hoge = hoge[0, ]\n",
    "\n",
    "    if hoge[0, 6] == None:\n",
    "        pass\n",
    "    else:\n",
    "        # チームの総歩数を算出\n",
    "        team_total = float(sum( hoge[:, 4] ))\n",
    "\n",
    "        # 個々の歩き割合を出す->[user1, user2, user3,...., kampo]みたいなarrayをつくる\n",
    "        if len(hoge) == 5:\n",
    "            try:\n",
    "                data = np.array([ hoge[0, 4]/team_total, hoge[1, 4]/team_total, hoge[2, 4]/team_total, hoge[3, 4]/team_total, hoge[4, 4]/team_total, hoge[0, 6] ])\n",
    "                five_teams = np.vstack((five_teams, data)) if len(five_teams[0]) != 0 else np.array([data])\n",
    "            except:\n",
    "                data = np.array([ 0.0, 0.0, 0.0, 0.0, 0.0, hoge[0, 6] ])\n",
    "                five_teams = np.vstack((five_teams, data)) if len(five_teams[0]) != 0 else np.array([data])\n",
    "        elif len(hoge) == 3:\n",
    "            try:\n",
    "                data = np.array([ hoge[0, 4]/team_total, hoge[1, 4]/team_total, hoge[2, 4]/team_total, hoge[0, 6] ])\n",
    "                three_teams = np.vstack((three_teams, data)) if len(three_teams[0]) != 0 else np.array([data])\n",
    "            except:\n",
    "                data = np.array([ 0.0, 0.0, 0.0, hoge[0, 6] ])\n",
    "                three_teams = np.vstack((three_teams, data)) if len(three_teams[0]) != 0 else np.array([data])\n",
    "                \n",
    "    i += len(hoge)"
   ]
  },
  {
   "cell_type": "code",
   "execution_count": 2,
   "metadata": {
    "collapsed": true
   },
   "outputs": [],
   "source": [
    "# 3人チームをクラスタリング\n"
   ]
  },
  {
   "cell_type": "code",
   "execution_count": null,
   "metadata": {
    "collapsed": true
   },
   "outputs": [],
   "source": [
    "# 5人チームをクラスタリング"
   ]
  },
  {
   "cell_type": "code",
   "execution_count": null,
   "metadata": {
    "collapsed": true
   },
   "outputs": [],
   "source": [
    "# 完歩したかどうかにわけて5人チームをクラスタリング"
   ]
  },
  {
   "cell_type": "code",
   "execution_count": null,
   "metadata": {
    "collapsed": true
   },
   "outputs": [],
   "source": [
    "# 完歩したかどうかにわけて5人チームをクラスタリング"
   ]
  }
 ],
 "metadata": {
  "kernelspec": {
   "display_name": "Python 2",
   "language": "python",
   "name": "python2"
  },
  "language_info": {
   "codemirror_mode": {
    "name": "ipython",
    "version": 2
   },
   "file_extension": ".py",
   "mimetype": "text/x-python",
   "name": "python",
   "nbconvert_exporter": "python",
   "pygments_lexer": "ipython2",
   "version": "2.7.12"
  }
 },
 "nbformat": 4,
 "nbformat_minor": 1
}
