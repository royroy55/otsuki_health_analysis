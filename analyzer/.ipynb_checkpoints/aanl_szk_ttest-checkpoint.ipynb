{
 "cells": [
  {
   "cell_type": "code",
   "execution_count": 1,
   "metadata": {
    "collapsed": true
   },
   "outputs": [],
   "source": [
    "%matplotlib inline\n",
    "import random\n",
    "import numpy as np\n",
    "import matplotlib.pylab as plt\n",
    "\n",
    "import os\n",
    "os.environ[\"DJANGO_SETTINGS_MODULE\"] = \"analyzer.settings\"\n",
    "import sys\n",
    "import django\n",
    "django.setup()"
   ]
  },
  {
   "cell_type": "code",
   "execution_count": 2,
   "metadata": {
    "collapsed": true
   },
   "outputs": [],
   "source": [
    "import pickle"
   ]
  },
  {
   "cell_type": "code",
   "execution_count": 3,
   "metadata": {
    "collapsed": true
   },
   "outputs": [],
   "source": [
    "import scipy as sp\n",
    "from scipy import stats"
   ]
  },
  {
   "cell_type": "code",
   "execution_count": 9,
   "metadata": {
    "collapsed": true
   },
   "outputs": [],
   "source": [
    "import datetime\n",
    "from datetime import timedelta"
   ]
  },
  {
   "cell_type": "code",
   "execution_count": 4,
   "metadata": {
    "collapsed": true
   },
   "outputs": [],
   "source": [
    "# 10日間の天候リスト 降雨ありが1、なしが0\n",
    "WEATHER = np.array([[0, 0, 0, 0, 0, 1, 1, 0, 0, 0], [0, 0, 0, 1, 0, 1, 0, 0, 0, 0], [0, 1, 1, 0, 0, 0, 0, 1, 1, 1]])\n",
    "# 10日間の平日休日のリスト 平日が0、休日が1\n",
    "DAY = np.array([[0, 1, 1, 0, 0, 0, 0, 0, 1, 1], [0, 0, 0, 0, 1, 1, 1, 0, 0, 0], [1, 0, 1, 0, 0, 0, 1, 1, 0, 0]])"
   ]
  },
  {
   "cell_type": "code",
   "execution_count": 20,
   "metadata": {
    "collapsed": true
   },
   "outputs": [],
   "source": [
    "# pickleからデータを開く\n",
    "with open('kampo_list.pickle', mode='rb') as f:\n",
    "    keme = pickle.load(f)\n",
    "# group.name, user_count, start_day, user.username, steps, distance, kampo, step1, step2, ... , step10"
   ]
  },
  {
   "cell_type": "code",
   "execution_count": 6,
   "metadata": {
    "collapsed": true
   },
   "outputs": [],
   "source": [
    "mikan_data = keme[np.where( keme[:, 6] == False ), 7:17]\n",
    "kampo_data = keme[np.where( keme[:, 6] == True ), 7:17]\n",
    "mikan_data = mikan_data[0, ]\n",
    "kampo_data = kampo_data[0, ]"
   ]
  },
  {
   "cell_type": "markdown",
   "metadata": {},
   "source": [
    "# 未完歩の人から、記録が0の人を除いてt検定"
   ]
  },
  {
   "cell_type": "code",
   "execution_count": 16,
   "metadata": {
    "collapsed": false
   },
   "outputs": [],
   "source": [
    "datas = keme.copy()\n",
    "rows = np.array([])\n",
    "for i in range(len(datas)):\n",
    "    if sum(datas[i, 7:17]) == 0.0:\n",
    "        rows = np.append( rows, i )\n",
    "datas = np.delete( datas, rows, 0 )"
   ]
  },
  {
   "cell_type": "code",
   "execution_count": 17,
   "metadata": {
    "collapsed": false
   },
   "outputs": [],
   "source": [
    "sep_mikan_data = datas[np.where( (datas[:, 6] == False) & (datas[:, 2] == datetime.date(2015, 9, 11)) ), 7:17]\n",
    "sep_kampo_data = datas[np.where( (datas[:, 6] == True) & (datas[:, 2] == datetime.date(2015, 9, 11)) ), 7:17]\n",
    "sep_mikan_data = sep_mikan_data[0, ]\n",
    "sep_kampo_data = sep_kampo_data[0, ]\n",
    "\n",
    "oct_mikan_data = datas[np.where( (datas[:, 6] == False) & (datas[:, 2] == datetime.date(2015, 10, 6)) ), 7:17]\n",
    "oct_kampo_data = datas[np.where( (datas[:, 6] == True) & (datas[:, 2] == datetime.date(2015, 10, 6)) ), 7:17]\n",
    "oct_mikan_data = oct_mikan_data[0, ]\n",
    "oct_kampo_data = oct_kampo_data[0, ]\n",
    "\n",
    "nov_mikan_data = datas[np.where( (datas[:, 6] == False) & (datas[:, 2] == datetime.date(2015, 11, 1)) ), 7:17]\n",
    "nov_kampo_data = datas[np.where( (datas[:, 6] == True) & (datas[:, 2] == datetime.date(2015, 11, 1)) ), 7:17]\n",
    "nov_mikan_data = nov_mikan_data[0, ]\n",
    "nov_kampo_data = nov_kampo_data[0, ]"
   ]
  },
  {
   "cell_type": "code",
   "execution_count": 18,
   "metadata": {
    "collapsed": true
   },
   "outputs": [],
   "source": [
    "# 条件毎にデータを連ねたarrayをつくるぞ\n",
    "kmp_rainy = np.r_[ np.reshape(sep_kampo_data[:, (5,6)].copy(), (1, -1))[0], \n",
    "                    np.reshape(oct_kampo_data[:, (3,5)].copy(), (1, -1))[0],\n",
    "                    np.reshape(nov_kampo_data[:, (1,2,7,8,9)].copy(), (1, -1))[0] ]\n",
    "kmp_sunny = np.r_[ np.reshape(sep_kampo_data[:, (0,1,2,3,4,7,8,9)].copy(), (1, -1))[0], \n",
    "                  np.reshape(oct_kampo_data[:, (0,1,2,4,6,7,8,9)].copy(), (1, -1))[0], \n",
    "                  np.reshape(nov_kampo_data[:, (0,3,4,5,6)].copy(), (1, -1))[0] ]\n",
    "kmp_week = np.r_[ np.reshape(sep_kampo_data[:, (0,3,4,5,6,7)].copy(), (1, -1))[0], \n",
    "                 np.reshape(oct_kampo_data[:, (0,1,2,3,7,8,9)].copy(), (1, -1))[0], \n",
    "                 np.reshape(nov_kampo_data[:, (1,3,4,5,8,9)].copy(), (1, -1))[0] ]\n",
    "kmp_holi = np.r_[ np.reshape(sep_kampo_data[:, (1,2)].copy(), (1, -1))[0], \n",
    "                 np.reshape(oct_kampo_data[:, (4,5,6)].copy(), (1, -1))[0], \n",
    "                 np.reshape(nov_kampo_data[:, (0,2,6,7)].copy(), (1, -1))[0] ]\n",
    "\n",
    "mkn_rainy = np.r_[ np.reshape(sep_mikan_data[:, (5,6)].copy(), (1, -1))[0], \n",
    "                    np.reshape(oct_mikan_data[:, (3,5)].copy(), (1, -1))[0],\n",
    "                    np.reshape(nov_mikan_data[:, (1,2,7,8,9)].copy(), (1, -1))[0] ]\n",
    "mkn_sunny = np.r_[ np.reshape(sep_mikan_data[:, (0,1,2,3,4,7,8,9)].copy(), (1, -1))[0], \n",
    "                  np.reshape(oct_mikan_data[:, (0,1,2,4,6,7,8,9)].copy(), (1, -1))[0], \n",
    "                  np.reshape(nov_mikan_data[:, (0,3,4,5,6)].copy(), (1, -1))[0] ]\n",
    "mkn_week = np.r_[ np.reshape(sep_mikan_data[:, (0,3,4,5,6,7)].copy(), (1, -1))[0], \n",
    "                 np.reshape(oct_mikan_data[:, (0,1,2,3,7,8,9)].copy(), (1, -1))[0], \n",
    "                 np.reshape(nov_mikan_data[:, (1,3,4,5,8,9)].copy(), (1, -1))[0] ]\n",
    "mkn_holi = np.r_[ np.reshape(sep_mikan_data[:, (1,2)].copy(), (1, -1))[0], \n",
    "                 np.reshape(oct_mikan_data[:, (4,5,6)].copy(), (1, -1))[0], \n",
    "                 np.reshape(nov_mikan_data[:, (0,2,6,7)].copy(), (1, -1))[0] ]"
   ]
  },
  {
   "cell_type": "code",
   "execution_count": 19,
   "metadata": {
    "collapsed": false
   },
   "outputs": [
    {
     "name": "stdout",
     "output_type": "stream",
     "text": [
      "比較内容  p値  p値<0.05  p値<0.1\n",
      "完歩雨-完歩晴 0.01219 True True\n",
      "完歩平-完歩休 0.0 True True\n",
      "未完雨-未完晴 0.20453 False False\n",
      "未完平-未完休 0.14884 False False\n",
      "完歩雨-未完雨 0.0 True True\n",
      "完歩晴-未完晴 0.0 True True\n",
      "完歩平-未完平 0.0 True True\n",
      "完歩休-未完休 0.0 True True\n"
     ]
    }
   ],
   "source": [
    "#T検定する---------------------------------!\n",
    "kr_ks = stats.ttest_ind( kmp_rainy, kmp_sunny, equal_var=False )\n",
    "kw_kh = stats.ttest_ind( kmp_week, kmp_holi, equal_var=False  )\n",
    "mr_ms = stats.ttest_ind( mkn_rainy, mkn_sunny, equal_var=False )\n",
    "mw_mh = stats.ttest_ind( mkn_week, mkn_holi, equal_var=False )\n",
    "kr_mr = stats.ttest_ind( kmp_rainy, mkn_rainy, equal_var=False )\n",
    "ks_ms = stats.ttest_ind( kmp_sunny, mkn_sunny, equal_var=False )\n",
    "kw_mw = stats.ttest_ind( kmp_week, mkn_week, equal_var=False )\n",
    "kh_mh = stats.ttest_ind( kmp_holi, mkn_holi, equal_var=False )\n",
    "\n",
    "#出力する\n",
    "print u'比較内容  p値  p値<0.05  p値<0.1'\n",
    "print u'完歩雨-完歩晴', np.around(kr_ks[1], 5), kr_ks[1]<0.05, kr_ks[1]<0.1\n",
    "print u'完歩平-完歩休', np.around(kw_kh[1], 5), kw_kh[1]<0.05, kw_kh[1]<0.1\n",
    "print u'未完雨-未完晴', np.around(mr_ms[1], 5), mr_ms[1]<0.05, mr_ms[1]<0.1\n",
    "print u'未完平-未完休', np.around(mw_mh[1], 5), mw_mh[1]<0.05, mw_mh[1]<0.1\n",
    "print u'完歩雨-未完雨', np.around(kr_mr[1], 5), kr_mr[1]<0.05, kr_mr[1]<0.1\n",
    "print u'完歩晴-未完晴', np.around(ks_ms[1], 5), ks_ms[1]<0.05, ks_ms[1]<0.1\n",
    "print u'完歩平-未完平', np.around(kw_mw[1], 5), kw_mw[1]<0.05, kw_mw[1]<0.1\n",
    "print u'完歩休-未完休', np.around(kh_mh[1], 5), kh_mh[1]<0.05, kh_mh[1]<0.1"
   ]
  },
  {
   "cell_type": "markdown",
   "metadata": {},
   "source": [
    "# 完歩の判定をチームにして、歩行記録を合算などして検定する"
   ]
  },
  {
   "cell_type": "code",
   "execution_count": 22,
   "metadata": {
    "collapsed": true
   },
   "outputs": [],
   "source": [
    "datas = keme.copy()\n",
    "rows = np.array([])\n",
    "for i in range(len(datas)):\n",
    "    if sum(datas[i, 7:17]) == 0.0:\n",
    "        rows = np.append( rows, i )\n",
    "datas = np.delete( datas, rows, 0 )"
   ]
  },
  {
   "cell_type": "code",
   "execution_count": 93,
   "metadata": {
    "collapsed": false
   },
   "outputs": [
    {
     "name": "stdout",
     "output_type": "stream",
     "text": [
      "704\n"
     ]
    }
   ],
   "source": [
    "teams = np.array([[]])\n",
    "i=0\n",
    "# チームを検索して歩行記録を平均\n",
    "while i < len(datas):\n",
    "    hoge = datas[ np.where(datas[:, 0]==datas[i, 0]), 0:17 ]\n",
    "    hoge = hoge[0]\n",
    "    sums = np.array([ np.mean(hoge[:, 7]), \n",
    "                     np.mean(hoge[:, 8]), \n",
    "                     np.mean(hoge[:, 9]), \n",
    "                     np.mean(hoge[:, 10]), \n",
    "                     np.mean(hoge[:, 11]), \n",
    "                     np.mean(hoge[:, 12]), \n",
    "                     np.mean(hoge[:, 13]), \n",
    "                     np.mean(hoge[:, 14]), \n",
    "                     np.mean(hoge[:, 15]), \n",
    "                     np.mean(hoge[:, 16]) ])\n",
    "    hoge = np.r_[ hoge[0, :3], sums ]\n",
    "    teams = np.array([hoge]) if i == 0 else np.r_[teams, np.array([hoge])]\n",
    "    i = i + hoge[1]\n",
    "    if i > len(datas):\n",
    "        break\n",
    "\n",
    "# 完歩と未完にわける"
   ]
  },
  {
   "cell_type": "code",
   "execution_count": null,
   "metadata": {
    "collapsed": true
   },
   "outputs": [],
   "source": [
    "mikan_data = datas[np.where( datas[:, 6] == False ), 7:17]\n",
    "kampo_data = datas[np.where( datas[:, 6] == True ), 7:17]\n",
    "mikan_data = mikan_data[0, ]\n",
    "kampo_data = kampo_data[0, ]"
   ]
  },
  {
   "cell_type": "markdown",
   "metadata": {},
   "source": [
    "# 完歩の判定を個人にして、t検定をする"
   ]
  },
  {
   "cell_type": "code",
   "execution_count": null,
   "metadata": {
    "collapsed": true
   },
   "outputs": [],
   "source": []
  }
 ],
 "metadata": {
  "kernelspec": {
   "display_name": "Python 2",
   "language": "python",
   "name": "python2"
  },
  "language_info": {
   "codemirror_mode": {
    "name": "ipython",
    "version": 2
   },
   "file_extension": ".py",
   "mimetype": "text/x-python",
   "name": "python",
   "nbconvert_exporter": "python",
   "pygments_lexer": "ipython2",
   "version": "2.7.12"
  }
 },
 "nbformat": 4,
 "nbformat_minor": 1
}
