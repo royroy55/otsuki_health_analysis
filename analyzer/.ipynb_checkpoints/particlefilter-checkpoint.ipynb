{
 "cells": [
  {
   "cell_type": "markdown",
   "metadata": {},
   "source": [
    "## 参加者の将来の歩行を予想するパーティクルフィルタの構築\n",
    "\n",
    "本章では、てくペコ2015年度のデータを用い、以下の解析を行う。\n",
    "\n",
    "* データの読み込み\n",
    "* データの量子化\n",
    "* 実施日時の天気の取得\n",
    "* 実施日時の曜日の取得\n",
    "* 量子化されたデータによる活動パターンのクラスタリング\n",
    "* パーティクルフィルタの設計\n",
    "* パーティクルフィルタによる予想結果の可視化\n"
   ]
  },
  {
   "cell_type": "markdown",
   "metadata": {},
   "source": [
    "### データの読み込み\n",
    "\n",
    "まずはデータベースに格納されたデータを読み込む"
   ]
  },
  {
   "cell_type": "code",
   "execution_count": 1,
   "metadata": {
    "collapsed": true
   },
   "outputs": [],
   "source": [
    "import os\n",
    "import re\n",
    "import datetime\n",
    "import numpy\n",
    "import pickle\n",
    "from pprint import pformat\n",
    "os.environ[\"DJANGO_SETTINGS_MODULE\"] = \"analyzer.settings\"\n",
    "import django\n",
    "django.setup()\n",
    "\n",
    "from analyzer import settings\n",
    "from record.models import User, Group, Summary\n",
    "\n",
    "username_expr = re.compile('(?P<season>[1-3])teku(?P<id>[0-9]+)')\n",
    "\n",
    "datasets = {1: [], 2: [], 3: []}\n",
    "seasons = {\n",
    "    1: datetime.datetime.strptime('2015/09/11', '%Y/%m/%d'),\n",
    "    2: datetime.datetime.strptime('2015/10/06', '%Y/%m/%d'),\n",
    "    3: datetime.datetime.strptime('2015/11/01', '%Y/%m/%d')\n",
    "}\n",
    "for user in User.objects.all():\n",
    "    m = username_expr.match(user.username)\n",
    "    if not m:\n",
    "        continue\n",
    "    season = int(m.group('season'))\n",
    "    season_start_date = seasons[season]\n",
    "    date_dict = dict((season_start_date + datetime.timedelta(days=i), 0) for i in range(10))\n",
    "    for summary in Summary.objects.filter(username=user.username):\n",
    "        if summary.steps == 0: continue\n",
    "        date_dict[summary.date] += summary.distance\n",
    "    ary = [distance for date, distance in sorted(date_dict.items(), key=lambda x: x[0])]\n",
    "    if sum(ary) == 0:\n",
    "        continue\n",
    "    datasets[season].append(ary)\n",
    "\n",
    "for k, v in datasets.items():\n",
    "    with open('10days_distance.season{}.pkl'.format(k), 'wb') as fp:\n",
    "        pickle.dump(numpy.array(v), fp)"
   ]
  },
  {
   "cell_type": "markdown",
   "metadata": {},
   "source": [
    "### データの量子化\n",
    "\n",
    "よく行われるK-means法でのクラスタリングを用います。"
   ]
  },
  {
   "cell_type": "code",
   "execution_count": 11,
   "metadata": {
    "collapsed": false
   },
   "outputs": [
    {
     "name": "stdout",
     "output_type": "stream",
     "text": [
      "data:  (7040,)\n",
      "[   794.41052246   8535.93554688  11618.77050781  33485.66796875\n",
      "   2773.34448242   4657.61621094  17956.1171875    6445.45654297] 693.287\n",
      "code:  [0 1 2 3 4 5 6 7]\n"
     ]
    }
   ],
   "source": [
    "import numpy\n",
    "import scipy.cluster\n",
    "\n",
    "data = numpy.array([])\n",
    "for k, v in datasets.items():\n",
    "    for row in v:\n",
    "        data = numpy.hstack((data, row))\n",
    "\n",
    "data = numpy.array(data).astype(numpy.float32)\n",
    "\n",
    "print \"data: \", data.shape\n",
    "# データをクラスタリング\n",
    "N = 8\n",
    "codebook, destortion = scipy.cluster.vq.kmeans(data, N, iter=20, thresh=1e-05)\n",
    "print codebook, destortion\n",
    "\n",
    "# ベクトル量子化\n",
    "# 各データをセントロイドに分類する\n",
    "code, dist = scipy.cluster.vq.vq(data, codebook)\n",
    "\n",
    "print \"code: \", numpy.unique(code)\n",
    "\n",
    "# 学習した結果を保存する\n",
    "with open('vq_params.pkl', 'wb') as fp:\n",
    "    pass\n"
   ]
  },
  {
   "cell_type": "markdown",
   "metadata": {},
   "source": [
    "### 実施日時の天気の取得"
   ]
  },
  {
   "cell_type": "markdown",
   "metadata": {},
   "source": [
    "### 実施日時の曜日の取得"
   ]
  },
  {
   "cell_type": "code",
   "execution_count": null,
   "metadata": {
    "collapsed": true
   },
   "outputs": [],
   "source": []
  }
 ],
 "metadata": {
  "kernelspec": {
   "display_name": "Python 2",
   "language": "python",
   "name": "python2"
  },
  "language_info": {
   "codemirror_mode": {
    "name": "ipython",
    "version": 2
   },
   "file_extension": ".py",
   "mimetype": "text/x-python",
   "name": "python",
   "nbconvert_exporter": "python",
   "pygments_lexer": "ipython2",
   "version": "2.7.12"
  }
 },
 "nbformat": 4,
 "nbformat_minor": 0
}
