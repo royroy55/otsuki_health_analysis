{
 "cells": [
  {
   "cell_type": "code",
   "execution_count": 1,
   "metadata": {
    "collapsed": true
   },
   "outputs": [],
   "source": [
    "%matplotlib inline\n",
    "import random\n",
    "import numpy as np\n",
    "import matplotlib.pylab as plt\n",
    "import os\n",
    "os.environ[\"DJANGO_SETTINGS_MODULE\"] = \"analyzer.settings\"\n",
    "import sys\n",
    "import django\n",
    "django.setup()"
   ]
  },
  {
   "cell_type": "code",
   "execution_count": 2,
   "metadata": {
    "collapsed": true
   },
   "outputs": [],
   "source": [
    "import datetime\n",
    "from datetime import timedelta"
   ]
  },
  {
   "cell_type": "code",
   "execution_count": 3,
   "metadata": {
    "collapsed": true
   },
   "outputs": [],
   "source": [
    "import pickle"
   ]
  },
  {
   "cell_type": "code",
   "execution_count": 4,
   "metadata": {
    "collapsed": true
   },
   "outputs": [],
   "source": [
    "# pickleからデータを開く\n",
    "with open('kampo_list.pickle', mode='rb') as f:\n",
    "    keme = pickle.load(f)\n",
    "# group.name, user_count, start_day, user.username, steps, distance, kampo, step1, step2, ... , step10"
   ]
  },
  {
   "cell_type": "code",
   "execution_count": 5,
   "metadata": {
    "collapsed": true
   },
   "outputs": [],
   "source": [
    "mikan_data = keme[np.where( keme[:, 6] == False ), 7:17].copy()\n",
    "kampo_data = keme[np.where( keme[:, 6] == True ), 7:17].copy()\n",
    "mikan_data = mikan_data[0, ]\n",
    "kampo_data = kampo_data[0, ]"
   ]
  },
  {
   "cell_type": "code",
   "execution_count": 6,
   "metadata": {
    "collapsed": true
   },
   "outputs": [],
   "source": [
    "import scipy\n",
    "from scipy import cluster"
   ]
  },
  {
   "cell_type": "code",
   "execution_count": 261,
   "metadata": {
    "collapsed": false
   },
   "outputs": [],
   "source": [
    "sep_data = keme[np.where( keme[:, 2] == datetime.date(2015, 9, 11) ), 7:17].copy()\n",
    "sep_data = sep_data[0, ]\n",
    "\n",
    "oct_data = keme[np.where( keme[:, 2] == datetime.date(2015, 10, 6) ), 7:17].copy()\n",
    "oct_data = oct_data[0, ]\n",
    "\n",
    "nov_data = keme[np.where( keme[:, 2] == datetime.date(2015, 11, 1) ), 7:17].copy()\n",
    "nov_data = nov_data[0, ]"
   ]
  },
  {
   "cell_type": "code",
   "execution_count": 262,
   "metadata": {
    "collapsed": false
   },
   "outputs": [
    {
     "name": "stdout",
     "output_type": "stream",
     "text": [
      "(189, 10) (388, 10) (460, 10)\n",
      "(127, 10) (259, 10) (318, 10)\n"
     ]
    }
   ],
   "source": [
    "# それぞれ ゼロばっかりの記録の人を除く\n",
    "print sep_data.shape, oct_data.shape, nov_data.shape\n",
    "\n",
    "rows = np.array([])\n",
    "for i in range(len(sep_data)):\n",
    "    if sum(sep_data[i]) == 0.0:\n",
    "        rows = np.append( rows, i )\n",
    "sep_data = np.delete( sep_data, rows, 0 )\n",
    "\n",
    "rows = np.array([])\n",
    "for i in range(len(oct_data)):\n",
    "    if sum(oct_data[i]) == 0.0:\n",
    "        rows = np.append( rows, i )\n",
    "oct_data = np.delete( oct_data, rows, 0 )\n",
    "\n",
    "rows = np.array([])\n",
    "for i in range(len(nov_data)):\n",
    "    if sum(nov_data[i]) == 0.0:\n",
    "        rows = np.append( rows, i )\n",
    "nov_data = np.delete( nov_data, rows, 0 )\n",
    "\n",
    "print sep_data.shape, oct_data.shape, nov_data.shape"
   ]
  },
  {
   "cell_type": "markdown",
   "metadata": {},
   "source": [
    "# ベクトル量子化してみよう！"
   ]
  },
  {
   "cell_type": "code",
   "execution_count": 20,
   "metadata": {
    "collapsed": false
   },
   "outputs": [
    {
     "name": "stdout",
     "output_type": "stream",
     "text": [
      "[[  9340.8984375    6499.57324219   6655.68554688   7021.03369141\n",
      "    6987.78662109   6406.14599609  13247.12402344   6428.65185547\n",
      "    4855.02246094   5689.        ]\n",
      " [    68.40229797     38.15229797     48.61494064     64.50574493\n",
      "      30.45402336     33.12356186     33.54310226     46.2902298\n",
      "      76.96264648     76.18390656]\n",
      " [ 21176.15234375  21052.60546875  21153.66601562  18005.69726562\n",
      "   22069.84765625  19418.30273438  24486.45507812  19964.66601562\n",
      "   17401.78710938  25339.06054688]\n",
      " [  3978.98510742   3981.17773438   4673.27392578   3968.48876953\n",
      "    4246.84423828   3936.51123047   4877.81494141   3172.14819336\n",
      "    3690.84448242   4349.39990234]\n",
      " [  4989.97167969   5503.02832031   6513.64404297   7287.95458984\n",
      "    7309.34472656   6881.98876953   5447.86425781   7404.49707031\n",
      "    7549.94335938   7107.75683594]\n",
      " [ 13282.72949219  10505.296875    26430.296875    10903.16210938\n",
      "    8918.72949219   9022.13476562  13433.296875     9237.45898438\n",
      "    5839.59472656   6319.08105469]\n",
      " [  9329.98925781   9761.51074219  11837.01074219   7674.35400391\n",
      "    6932.47900391   6281.05224609   3586.10424805   4350.04150391\n",
      "    5436.33349609   4080.625     ]\n",
      " [ 10175.34472656  12346.05761719  12212.91015625  10903.51660156\n",
      "   11276.93457031  10936.07421875   9475.74609375  11175.35253906  12006.\n",
      "   13133.95117188]]\n"
     ]
    }
   ],
   "source": [
    "# ここ不要!!!!!!!!!!!!!!!!!!!!!!!\n",
    "keme_vq = keme[:, 7:17].copy()\n",
    "# data = data.reshape((1, 10*len(data)))\n",
    "keme_vq = np.array(keme_vq).astype(np.float32)\n",
    "# データをクラスタリング\n",
    "N = 8\n",
    "codebook, destortion = scipy.cluster.vq.kmeans(keme_vq, N, iter=20, thresh=1e-05)\n",
    "print codebook\n",
    "# print destortion\n",
    "\n",
    "# ベクトル量子化\n",
    "# 各データをセントロイドに分類する\n",
    "# code, dist = scipy.cluster.vq.vq(keme_vq, codebook)\n",
    "# print \"code: \", np.unique(code)"
   ]
  },
  {
   "cell_type": "markdown",
   "metadata": {},
   "source": [
    "# あきらめて杉山先生の量子化結果をもらう"
   ]
  },
  {
   "cell_type": "code",
   "execution_count": 263,
   "metadata": {
    "collapsed": false
   },
   "outputs": [
    {
     "name": "stdout",
     "output_type": "stream",
     "text": [
      "[   832.01855469   2849.14038086   4715.02880859   6483.97900391\n",
      "   8558.92480469  11663.4296875   18064.2734375   33613.1328125 ]\n"
     ]
    }
   ],
   "source": [
    "codebook = np.array([ 18064.2734375, 6483.97900391, 8558.92480469, 2849.14038086, \n",
    "                     11663.4296875, 832.01855469, 33613.1328125, 4715.02880859])\n",
    "codebook = np.sort(codebook)\n",
    "print codebook"
   ]
  },
  {
   "cell_type": "code",
   "execution_count": 264,
   "metadata": {
    "collapsed": false
   },
   "outputs": [],
   "source": [
    "# codebookを参照して月ごとのデータを離散化\n",
    "# 各データをセントロイドに分類する\n",
    "# ----------9月のデータ-------------#\n",
    "data = sep_data.copy()\n",
    "data = data.astype(np.float32)\n",
    "data.shape = 1270,\n",
    "\n",
    "sep_code, dist = scipy.cluster.vq.vq(data, codebook)\n",
    "\n",
    "# print \"portion of each code: \"\n",
    "# for i in xrange(8):\n",
    "#     print \"num of [%d]: \" % i, np.count_nonzero((sep_code == i))\n",
    "sep_code.shape = (127, 10)\n",
    "\n",
    "\n",
    "# ----------10月のデータ-------------#\n",
    "data = oct_data.copy()\n",
    "data = data.astype(np.float32)\n",
    "data.shape = 2590,\n",
    "\n",
    "oct_code, dist = scipy.cluster.vq.vq(data, codebook)\n",
    "\n",
    "# print \"portion of each code: \"\n",
    "# for i in xrange(8):\n",
    "#     print \"num of [%d]: \" % i, np.count_nonzero((oct_code == i))\n",
    "oct_code.shape = (259, 10)\n",
    "\n",
    "\n",
    "# ----------11月のデータ-------------#\n",
    "data = nov_data.copy()\n",
    "data = data.astype(np.float32)\n",
    "data.shape = 3180,\n",
    "\n",
    "nov_code, dist = scipy.cluster.vq.vq(data, codebook)\n",
    "\n",
    "# print \"portion of each code: \"\n",
    "# for i in xrange(8):\n",
    "#     print \"num of [%d]: \" % i, np.count_nonzero((nov_code == i))\n",
    "nov_code.shape = (318, 10)"
   ]
  },
  {
   "cell_type": "code",
   "execution_count": 265,
   "metadata": {
    "collapsed": true
   },
   "outputs": [],
   "source": [
    "sep_data = sep_code.copy()\n",
    "oct_data = oct_code.copy()\n",
    "nov_data = nov_code.copy()"
   ]
  },
  {
   "cell_type": "code",
   "execution_count": 150,
   "metadata": {
    "collapsed": true
   },
   "outputs": [],
   "source": [
    "import pandas\n",
    "import seaborn"
   ]
  },
  {
   "cell_type": "markdown",
   "metadata": {},
   "source": [
    "# 天候について解析"
   ]
  },
  {
   "cell_type": "code",
   "execution_count": 88,
   "metadata": {
    "collapsed": true
   },
   "outputs": [],
   "source": [
    "# 10日間の天候リスト 降雨ありが1、なしが0\n",
    "WEATHER = np.array([[0, 0, 0, 0, 0, 1, 1, 0, 0, 0], \n",
    "                    [0, 0, 0, 1, 0, 1, 0, 0, 0, 0], \n",
    "                    [0, 1, 1, 0, 0, 0, 0, 1, 1, 1]])"
   ]
  },
  {
   "cell_type": "markdown",
   "metadata": {},
   "source": [
    "### 雨→晴"
   ]
  },
  {
   "cell_type": "code",
   "execution_count": 329,
   "metadata": {
    "collapsed": false
   },
   "outputs": [
    {
     "name": "stdout",
     "output_type": "stream",
     "text": [
      "[[ 0.2941  0.1961  0.2059  0.0784  0.0882  0.0882  0.0392  0.0098]\n",
      " [ 0.1223  0.2014  0.1727  0.1942  0.1151  0.1367  0.0504  0.0072]\n",
      " [ 0.0615  0.1769  0.1769  0.2308  0.1231  0.1462  0.0769  0.0077]\n",
      " [ 0.0694  0.1111  0.2083  0.2083  0.1736  0.1319  0.0972  0.    ]\n",
      " [ 0.1026  0.1474  0.1346  0.1538  0.1859  0.2244  0.0449  0.0064]\n",
      " [ 0.046   0.0517  0.1379  0.1782  0.1609  0.2241  0.1839  0.0172]\n",
      " [ 0.0989  0.011   0.0549  0.0549  0.2088  0.3187  0.1978  0.0549]\n",
      " [ 0.1111  0.037   0.0741  0.037   0.1111  0.1111  0.3333  0.1852]]\n"
     ]
    }
   ],
   "source": [
    "N = 8\n",
    "# 雨->晴の場合に切り出し\n",
    "hoge = np.vstack( [sep_data[:, 6:8],\n",
    "                  oct_data[:, 3:5],\n",
    "                  oct_data[:, 5:7],\n",
    "                  nov_data[:, 2:4]] )\n",
    "\n",
    "# s0->s0に遷移する確率みたいな感じを順番に数える\n",
    "percent = np.array([[0.0 for i in range(N)] for j in range(N)])\n",
    "for i in range(N):\n",
    "    for j in range(N):\n",
    "        percent[i, j] = float(np.count_nonzero( (hoge[:, 0] == i) & (hoge[:, 1] == j) )) / float(np.count_nonzero( (hoge[:, 0] == i)))\n",
    "print np.around(percent, 4)"
   ]
  },
  {
   "cell_type": "code",
   "execution_count": 330,
   "metadata": {
    "collapsed": false
   },
   "outputs": [
    {
     "data": {
      "text/plain": [
       "<matplotlib.axes._subplots.AxesSubplot at 0x7fead9259610>"
      ]
     },
     "execution_count": 330,
     "metadata": {},
     "output_type": "execute_result"
    },
    {
     "data": {
      "image/png": "[encoded data removed]",
      "text/plain": [
       "<matplotlib.figure.Figure at 0x7fead942c050>"
      ]
     },
     "metadata": {},
     "output_type": "display_data"
    }
   ],
   "source": [
    "counts_df = pandas.DataFrame(percent)\n",
    "plt.figure(figsize=(11, 8))\n",
    "seaborn.heatmap(counts_df, annot=False, fmt='g', cmap='Greens')"
   ]
  },
  {
   "cell_type": "markdown",
   "metadata": {},
   "source": [
    "### 晴→晴"
   ]
  },
  {
   "cell_type": "code",
   "execution_count": 331,
   "metadata": {
    "collapsed": false
   },
   "outputs": [
    {
     "name": "stdout",
     "output_type": "stream",
     "text": [
      "[[ 0.4059  0.1551  0.0825  0.1221  0.1254  0.0726  0.033   0.0033]\n",
      " [ 0.1499  0.2507  0.218   0.1635  0.1035  0.0654  0.0436  0.0054]\n",
      " [ 0.0917  0.1659  0.2424  0.2118  0.1485  0.107   0.0306  0.0022]\n",
      " [ 0.0592  0.0992  0.2042  0.2615  0.1947  0.124   0.0496  0.0076]\n",
      " [ 0.0588  0.0854  0.1063  0.2068  0.2543  0.1879  0.093   0.0076]\n",
      " [ 0.0568  0.072   0.0833  0.1269  0.1913  0.3277  0.1307  0.0114]\n",
      " [ 0.0463  0.0347  0.0502  0.0888  0.1158  0.2857  0.305   0.0734]\n",
      " [ 0.0222  0.0444  0.0222  0.0444  0.0444  0.1111  0.3333  0.3778]]\n"
     ]
    }
   ],
   "source": [
    "# 晴->晴の場合に切り出し\n",
    "hoge = np.vstack( [sep_data[:, 0:2],\n",
    "                  sep_data[:, 1:3],\n",
    "                  sep_data[:, 2:4],\n",
    "                  sep_data[:, 3:5],\n",
    "                  sep_data[:, 7:9],\n",
    "                  sep_data[:, 8:],\n",
    "                  oct_data[:, 0:2],\n",
    "                  oct_data[:, 1:3],\n",
    "                  oct_data[:, 6:8],\n",
    "                  oct_data[:, 7:9],\n",
    "                  oct_data[:, 8:],\n",
    "                  nov_data[:, 3:5],\n",
    "                  nov_data[:, 4:6],\n",
    "                  nov_data[:, 5:7]] )\n",
    "\n",
    "# s0->s0に遷移する確率みたいな感じを順番に数える\n",
    "percent = np.array([[0.0 for i in range(N)] for j in range(N)])\n",
    "for i in range(N):\n",
    "    for j in range(N):\n",
    "        percent[i, j] = float(np.count_nonzero( (hoge[:, 0] == i) & (hoge[:, 1] == j) )) / float(np.count_nonzero( (hoge[:, 0] == i)))\n",
    "print np.around(percent, 4)"
   ]
  },
  {
   "cell_type": "code",
   "execution_count": 332,
   "metadata": {
    "collapsed": false
   },
   "outputs": [
    {
     "data": {
      "text/plain": [
       "<matplotlib.axes._subplots.AxesSubplot at 0x7fead96ea6d0>"
      ]
     },
     "execution_count": 332,
     "metadata": {},
     "output_type": "execute_result"
    },
    {
     "data": {
      "image/png": "[encoded data removed]",
      "text/plain": [
       "<matplotlib.figure.Figure at 0x7fead91bfa90>"
      ]
     },
     "metadata": {},
     "output_type": "display_data"
    }
   ],
   "source": [
    "counts_df = pandas.DataFrame(percent)\n",
    "plt.figure(figsize=(11, 8))\n",
    "seaborn.heatmap(counts_df, annot=False, fmt='g', cmap='Greens')"
   ]
  },
  {
   "cell_type": "markdown",
   "metadata": {},
   "source": [
    "### 晴→雨"
   ]
  },
  {
   "cell_type": "code",
   "execution_count": 333,
   "metadata": {
    "collapsed": false
   },
   "outputs": [
    {
     "name": "stdout",
     "output_type": "stream",
     "text": [
      "[[ 0.3812  0.2062  0.1625  0.0938  0.075   0.0438  0.0312  0.0062]\n",
      " [ 0.1824  0.2838  0.2162  0.1149  0.0878  0.0676  0.0473  0.    ]\n",
      " [ 0.1548  0.2083  0.2143  0.1845  0.1488  0.0655  0.0238  0.    ]\n",
      " [ 0.1682  0.1308  0.1495  0.2523  0.1495  0.0888  0.0514  0.0093]\n",
      " [ 0.1154  0.1442  0.1683  0.1683  0.1875  0.1394  0.0721  0.0048]\n",
      " [ 0.0421  0.1075  0.1542  0.1168  0.1776  0.3271  0.0748  0.    ]\n",
      " [ 0.0863  0.0647  0.0863  0.1079  0.1079  0.223   0.2446  0.0791]\n",
      " [ 0.0333  0.0667  0.0333  0.0333  0.1     0.1667  0.2     0.3667]]\n"
     ]
    }
   ],
   "source": [
    "# 晴->雨の場合に切り出し\n",
    "hoge = np.vstack( [sep_data[:, 4:6],\n",
    "                  oct_data[:, 2:4],\n",
    "                  oct_data[:, 4:6],\n",
    "                  nov_data[:, 0:2],\n",
    "                  nov_data[:, 6:8]] )\n",
    "\n",
    "# s0->s0に遷移する確率みたいな感じを順番に数える\n",
    "percent = np.array([[0.0 for i in range(N)] for j in range(N)])\n",
    "for i in range(N):\n",
    "    for j in range(N):\n",
    "        percent[i, j] = float(np.count_nonzero( (hoge[:, 0] == i) & (hoge[:, 1] == j) )) / float(np.count_nonzero( (hoge[:, 0] == i)))\n",
    "print np.around(percent, 4)"
   ]
  },
  {
   "cell_type": "code",
   "execution_count": 334,
   "metadata": {
    "collapsed": false
   },
   "outputs": [
    {
     "data": {
      "text/plain": [
       "<matplotlib.axes._subplots.AxesSubplot at 0x7fead8f8d9d0>"
      ]
     },
     "execution_count": 334,
     "metadata": {},
     "output_type": "execute_result"
    },
    {
     "data": {
      "image/png": "[encoded data removed]",
      "text/plain": [
       "<matplotlib.figure.Figure at 0x7fead9198650>"
      ]
     },
     "metadata": {},
     "output_type": "display_data"
    }
   ],
   "source": [
    "counts_df = pandas.DataFrame(percent)\n",
    "plt.figure(figsize=(11, 8))\n",
    "seaborn.heatmap(counts_df, annot=False, fmt='g', cmap='Greens')"
   ]
  },
  {
   "cell_type": "markdown",
   "metadata": {},
   "source": [
    "### 雨→雨"
   ]
  },
  {
   "cell_type": "code",
   "execution_count": 335,
   "metadata": {
    "collapsed": false
   },
   "outputs": [
    {
     "name": "stdout",
     "output_type": "stream",
     "text": [
      "[[ 0.3532  0.1692  0.1343  0.1144  0.1194  0.0697  0.0299  0.01  ]\n",
      " [ 0.1556  0.2111  0.1556  0.1833  0.1278  0.1222  0.0222  0.0222]\n",
      " [ 0.0934  0.1703  0.1703  0.2253  0.1264  0.1593  0.044   0.011 ]\n",
      " [ 0.0854  0.1524  0.1646  0.2073  0.2073  0.1341  0.0366  0.0122]\n",
      " [ 0.0515  0.1471  0.1544  0.1618  0.1912  0.1765  0.1103  0.0074]\n",
      " [ 0.0763  0.0916  0.0916  0.1298  0.1679  0.2748  0.1527  0.0153]\n",
      " [ 0.0548  0.137   0.0548  0.0959  0.137   0.2055  0.2466  0.0685]\n",
      " [ 0.      0.0714  0.      0.      0.1429  0.0714  0.4286  0.2857]]\n"
     ]
    }
   ],
   "source": [
    "# 雨->雨の場合に切り出し\n",
    "hoge = np.vstack( [sep_data[:, 5:7],\n",
    "                  nov_data[:, 1:3],\n",
    "                  nov_data[:, 7:9],\n",
    "                  nov_data[:, 8:]] )\n",
    "\n",
    "# s0->s0に遷移する確率みたいな感じを順番に数える\n",
    "percent = np.array([[0.0 for i in range(N)] for j in range(N)])\n",
    "for i in range(N):\n",
    "    for j in range(N):\n",
    "        percent[i, j] = float(np.count_nonzero( (hoge[:, 0] == i) & (hoge[:, 1] == j) )) / float(np.count_nonzero( (hoge[:, 0] == i)))\n",
    "print np.around(percent, 4)"
   ]
  },
  {
   "cell_type": "code",
   "execution_count": 336,
   "metadata": {
    "collapsed": false
   },
   "outputs": [
    {
     "data": {
      "text/plain": [
       "<matplotlib.axes._subplots.AxesSubplot at 0x7fead8e50950>"
      ]
     },
     "execution_count": 336,
     "metadata": {},
     "output_type": "execute_result"
    },
    {
     "data": {
      "image/png": "[encoded data removed]",
      "text/plain": [
       "<matplotlib.figure.Figure at 0x7fead8f2ef90>"
      ]
     },
     "metadata": {},
     "output_type": "display_data"
    }
   ],
   "source": [
    "counts_df = pandas.DataFrame(percent)\n",
    "plt.figure(figsize=(11, 8))\n",
    "seaborn.heatmap(counts_df, annot=False, fmt='g', cmap='Greens')"
   ]
  },
  {
   "cell_type": "markdown",
   "metadata": {},
   "source": [
    "# 曜日について解析"
   ]
  },
  {
   "cell_type": "code",
   "execution_count": 137,
   "metadata": {
    "collapsed": true
   },
   "outputs": [],
   "source": [
    "# 10日間の平日休日のリスト 平日が0、休日が1\n",
    "DAY = np.array([[0, 1, 1, 0, 0, 0, 0, 0, 1, 1], \n",
    "                [0, 0, 0, 0, 1, 1, 1, 0, 0, 0], \n",
    "                [1, 0, 1, 0, 0, 0, 1, 1, 0, 0]])"
   ]
  },
  {
   "cell_type": "markdown",
   "metadata": {},
   "source": [
    "### 休→休"
   ]
  },
  {
   "cell_type": "code",
   "execution_count": 337,
   "metadata": {
    "collapsed": false
   },
   "outputs": [
    {
     "name": "stdout",
     "output_type": "stream",
     "text": [
      "[[ 0.335   0.1576  0.1379  0.1084  0.133   0.0887  0.0296  0.0099]\n",
      " [ 0.1751  0.2203  0.1751  0.1695  0.1186  0.0847  0.0452  0.0113]\n",
      " [ 0.1307  0.1364  0.1875  0.2159  0.142   0.1307  0.0568  0.    ]\n",
      " [ 0.0794  0.1323  0.2328  0.1958  0.2011  0.1111  0.0317  0.0159]\n",
      " [ 0.1055  0.1256  0.1206  0.1608  0.196   0.1558  0.1256  0.0101]\n",
      " [ 0.0676  0.1126  0.1261  0.1171  0.1802  0.2523  0.1351  0.009 ]\n",
      " [ 0.0784  0.0784  0.0654  0.098   0.1307  0.2288  0.2614  0.0588]\n",
      " [ 0.0667  0.0333  0.      0.0667  0.1667  0.0333  0.3333  0.3   ]]\n"
     ]
    }
   ],
   "source": [
    "N=8\n",
    "# 休->休の場合に切り出し\n",
    "hoge = np.vstack( [sep_data[:, 1:3],\n",
    "                  sep_data[:, 8:],\n",
    "                  oct_data[:, 4:6],\n",
    "                  oct_data[:, 5:7],\n",
    "                  oct_data[:, 6:8],\n",
    "                  nov_data[:, 7:9]] )\n",
    "\n",
    "# s0->s0に遷移する確率みたいな感じを順番に数える\n",
    "percent = np.array([[0.0 for i in range(N)] for j in range(N)])\n",
    "for i in range(N):\n",
    "    for j in range(N):\n",
    "        percent[i, j] = float(np.count_nonzero( (hoge[:, 0] == i) & (hoge[:, 1] == j) )) / float(np.count_nonzero( (hoge[:, 0] == i)))\n",
    "print np.around(percent, 4)"
   ]
  },
  {
   "cell_type": "code",
   "execution_count": 338,
   "metadata": {
    "collapsed": false
   },
   "outputs": [
    {
     "data": {
      "text/plain": [
       "<matplotlib.axes._subplots.AxesSubplot at 0x7fead92e6150>"
      ]
     },
     "execution_count": 338,
     "metadata": {},
     "output_type": "execute_result"
    },
    {
     "data": {
      "image/png": "[encoded data removed]",
      "text/plain": [
       "<matplotlib.figure.Figure at 0x7fead8ecad50>"
      ]
     },
     "metadata": {},
     "output_type": "display_data"
    }
   ],
   "source": [
    "counts_df = pandas.DataFrame(percent)\n",
    "plt.figure(figsize=(11, 8))\n",
    "seaborn.heatmap(counts_df, annot=False, fmt='g', cmap='Blues')"
   ]
  },
  {
   "cell_type": "markdown",
   "metadata": {},
   "source": [
    "### 休→平"
   ]
  },
  {
   "cell_type": "code",
   "execution_count": 339,
   "metadata": {
    "collapsed": false
   },
   "outputs": [
    {
     "name": "stdout",
     "output_type": "stream",
     "text": [
      "[[ 0.3249  0.2081  0.1675  0.1066  0.1371  0.0406  0.0102  0.0051]\n",
      " [ 0.1411  0.2393  0.2883  0.1472  0.092   0.0675  0.0245  0.    ]\n",
      " [ 0.087   0.1925  0.1863  0.2795  0.1242  0.1118  0.0186  0.    ]\n",
      " [ 0.09    0.125   0.21    0.28    0.135   0.11    0.05    0.    ]\n",
      " [ 0.0773  0.1256  0.1159  0.1932  0.2174  0.2029  0.0676  0.    ]\n",
      " [ 0.0685  0.1187  0.1279  0.1553  0.1918  0.2374  0.0913  0.0091]\n",
      " [ 0.0818  0.0818  0.1132  0.1006  0.1321  0.2767  0.1698  0.044 ]\n",
      " [ 0.0882  0.1176  0.0588  0.0294  0.1471  0.1765  0.2647  0.1176]]\n"
     ]
    }
   ],
   "source": [
    "# 休->平の場合に切り出し\n",
    "hoge = np.vstack( [sep_data[:, 2:4],\n",
    "                  oct_data[:, 7:9],\n",
    "                  nov_data[:, 0:2],\n",
    "                  nov_data[:, 2:4],\n",
    "                  nov_data[:, 7:9]] )\n",
    "\n",
    "# s0->s0に遷移する確率みたいな感じを順番に数える\n",
    "percent = np.array([[0.0 for i in range(N)] for j in range(N)])\n",
    "for i in range(N):\n",
    "    for j in range(N):\n",
    "        percent[i, j] = float(np.count_nonzero( (hoge[:, 0] == i) & (hoge[:, 1] == j) )) / float(np.count_nonzero( (hoge[:, 0] == i)))\n",
    "print np.around(percent, 4)"
   ]
  },
  {
   "cell_type": "code",
   "execution_count": 340,
   "metadata": {
    "collapsed": false
   },
   "outputs": [
    {
     "data": {
      "text/plain": [
       "<matplotlib.axes._subplots.AxesSubplot at 0x7fead8c37690>"
      ]
     },
     "execution_count": 340,
     "metadata": {},
     "output_type": "execute_result"
    },
    {
     "data": {
      "image/png": "[encoded data removed]",
      "text/plain": [
       "<matplotlib.figure.Figure at 0x7fead921d810>"
      ]
     },
     "metadata": {},
     "output_type": "display_data"
    }
   ],
   "source": [
    "counts_df = pandas.DataFrame(percent)\n",
    "plt.figure(figsize=(11, 8))\n",
    "seaborn.heatmap(counts_df, annot=False, fmt='g', cmap='Blues')"
   ]
  },
  {
   "cell_type": "markdown",
   "metadata": {},
   "source": [
    "### 平→休"
   ]
  },
  {
   "cell_type": "code",
   "execution_count": 341,
   "metadata": {
    "collapsed": false
   },
   "outputs": [
    {
     "name": "stdout",
     "output_type": "stream",
     "text": [
      "[[ 0.3664  0.145   0.145   0.084   0.1145  0.0611  0.0687  0.0153]\n",
      " [ 0.1125  0.1812  0.1312  0.1625  0.1     0.2     0.0875  0.025 ]\n",
      " [ 0.1117  0.1675  0.1168  0.1929  0.1574  0.1827  0.0609  0.0102]\n",
      " [ 0.1675  0.0985  0.0985  0.1872  0.1872  0.1527  0.1034  0.0049]\n",
      " [ 0.0989  0.1319  0.1648  0.1374  0.1593  0.1484  0.1374  0.022 ]\n",
      " [ 0.0303  0.0545  0.103   0.1455  0.1515  0.3212  0.1939  0.    ]\n",
      " [ 0.1348  0.0449  0.0112  0.0562  0.1685  0.2472  0.2584  0.0787]\n",
      " [ 0.      0.      0.0455  0.      0.0455  0.1818  0.4091  0.3182]]\n"
     ]
    }
   ],
   "source": [
    "# 平->休の場合に切り出し\n",
    "hoge = np.vstack( [sep_data[:, 0:2],\n",
    "                  sep_data[:, 7:9],\n",
    "                  oct_data[:, 3:5],\n",
    "                  nov_data[:, 1:3],\n",
    "                  nov_data[:, 6:8]] )\n",
    "\n",
    "# s0->s0に遷移する確率みたいな感じを順番に数える\n",
    "percent = np.array([[0.0 for i in range(N)] for j in range(N)])\n",
    "for i in range(N):\n",
    "    for j in range(N):\n",
    "        percent[i, j] = float(np.count_nonzero( (hoge[:, 0] == i) & (hoge[:, 1] == j) )) / float(np.count_nonzero( (hoge[:, 0] == i)))\n",
    "print np.around(percent, 4)"
   ]
  },
  {
   "cell_type": "code",
   "execution_count": 342,
   "metadata": {
    "collapsed": false
   },
   "outputs": [
    {
     "data": {
      "text/plain": [
       "<matplotlib.axes._subplots.AxesSubplot at 0x7fead8afe210>"
      ]
     },
     "execution_count": 342,
     "metadata": {},
     "output_type": "execute_result"
    },
    {
     "data": {
      "image/png": "[encoded data removed]",
      "text/plain": [
       "<matplotlib.figure.Figure at 0x7fead8d2e410>"
      ]
     },
     "metadata": {},
     "output_type": "display_data"
    }
   ],
   "source": [
    "counts_df = pandas.DataFrame(percent)\n",
    "plt.figure(figsize=(11, 8))\n",
    "seaborn.heatmap(counts_df, annot=False, fmt='g', cmap='Blues')"
   ]
  },
  {
   "cell_type": "markdown",
   "metadata": {},
   "source": [
    "### 平→平"
   ]
  },
  {
   "cell_type": "code",
   "execution_count": 343,
   "metadata": {
    "collapsed": false
   },
   "outputs": [
    {
     "name": "stdout",
     "output_type": "stream",
     "text": [
      "[[ 0.4098  0.2033  0.1148  0.1148  0.0852  0.0525  0.0197  0.    ]\n",
      " [ 0.1749  0.2924  0.2037  0.1462  0.107   0.0601  0.0157  0.    ]\n",
      " [ 0.0801  0.1808  0.2654  0.2197  0.1373  0.0847  0.0275  0.0046]\n",
      " [ 0.0578  0.1071  0.2184  0.2719  0.1884  0.1221  0.0321  0.0021]\n",
      " [ 0.048   0.0981  0.1211  0.2109  0.2547  0.2109  0.0564  0.    ]\n",
      " [ 0.044   0.0615  0.0813  0.1275  0.1868  0.3692  0.1143  0.0154]\n",
      " [ 0.0258  0.0361  0.0464  0.0773  0.1237  0.2938  0.3093  0.0876]\n",
      " [ 0.      0.0541  0.027   0.027   0.027   0.1081  0.2973  0.4595]]\n"
     ]
    }
   ],
   "source": [
    "# 平->平の場合に切り出し\n",
    "hoge = np.vstack( [sep_data[:, 3:5],\n",
    "                  sep_data[:, 4:6],\n",
    "                  sep_data[:, 5:7],\n",
    "                  sep_data[:, 6:8],\n",
    "                  oct_data[:, 0:2],\n",
    "                  oct_data[:, 1:3],\n",
    "                  oct_data[:, 2:4],\n",
    "                  oct_data[:, 7:9],\n",
    "                  oct_data[:, 8:],\n",
    "                  nov_data[:, 3:5],\n",
    "                  nov_data[:, 4:6],\n",
    "                  nov_data[:, 8:]] )\n",
    "\n",
    "# s0->s0に遷移する確率みたいな感じを順番に数える\n",
    "percent = np.array([[0.0 for i in range(N)] for j in range(N)])\n",
    "for i in range(N):\n",
    "    for j in range(N):\n",
    "        percent[i, j] = float(np.count_nonzero( (hoge[:, 0] == i) & (hoge[:, 1] == j) )) / float(np.count_nonzero( (hoge[:, 0] == i)))\n",
    "print np.around(percent, 4)"
   ]
  },
  {
   "cell_type": "code",
   "execution_count": 344,
   "metadata": {
    "collapsed": false
   },
   "outputs": [
    {
     "data": {
      "text/plain": [
       "<matplotlib.axes._subplots.AxesSubplot at 0x7fead8942a50>"
      ]
     },
     "execution_count": 344,
     "metadata": {},
     "output_type": "execute_result"
    },
    {
     "data": {
      "image/png": "[encoded data removed]",
      "text/plain": [
       "<matplotlib.figure.Figure at 0x7fead8afea90>"
      ]
     },
     "metadata": {},
     "output_type": "display_data"
    }
   ],
   "source": [
    "counts_df = pandas.DataFrame(percent)\n",
    "plt.figure(figsize=(11, 8))\n",
    "seaborn.heatmap(counts_df, annot=False, fmt='g', cmap='Blues')"
   ]
  },
  {
   "cell_type": "markdown",
   "metadata": {
    "collapsed": true
   },
   "source": [
    "# シンプルなことからしなさい！はい！"
   ]
  },
  {
   "cell_type": "markdown",
   "metadata": {},
   "source": [
    "## 天候の解析から"
   ]
  },
  {
   "cell_type": "code",
   "execution_count": 284,
   "metadata": {
    "collapsed": true
   },
   "outputs": [],
   "source": [
    "rain_total = np.array([ [0.0, 0.0, 0.0, 0.0, 0.0, 0.5, 42.0, 0.0, 0.0, 0.0],\n",
    "                        [0.0, 0.0, 0.0, 0.5, 0.0, 5.5, 0.0, 0.0, 0.0, 0.0],\n",
    "                        [0.0, 15.0, 3.0, 0.0, 0.0, 0.0, 0.0, 9.0, 17.5, 1.5] ])\n",
    "\n",
    "rain_hour = np.array([ [0.0, 0.0, 0.0, 0.0, 0.0, 0.5, 11.0, 0.0, 0.0, 0.0],\n",
    "                        [0.0, 0.0, 0.0, 0.5, 0.0, 3.5, 0.0, 0.0, 0.0, 0.0],\n",
    "                        [0.0, 3.0, 1.5, 0.0, 0.0, 0.0, 0.0, 3.0, 11.5, 1.5] ])"
   ]
  },
  {
   "cell_type": "code",
   "execution_count": 285,
   "metadata": {
    "collapsed": false
   },
   "outputs": [
    {
     "name": "stdout",
     "output_type": "stream",
     "text": [
      "codebook:  [ 42.           0.42307692  13.83333333] destortion:  1.38397435897\n",
      "code:  [0 1 2]\n",
      "portion of each code: \n",
      "num of [0]:  1\n",
      "num of [1]:  26\n",
      "num of [2]:  3\n",
      "[confirmation] sorted codebook:  [  0.42307692  13.83333333  42.        ]\n",
      "[confirmation] portion of each ordinal code: \n",
      "num of [0]:  26\n",
      "num of [1]:  3\n",
      "num of [2]:  1\n",
      "[[0 0 0 0 0 0 2 0 0 0]\n",
      " [0 0 0 0 0 0 0 0 0 0]\n",
      " [0 1 0 0 0 0 0 1 1 0]]\n"
     ]
    }
   ],
   "source": [
    "data = rain_total.copy()\n",
    "data.shape = 30, \n",
    "\n",
    "# データをクラスタリング\n",
    "N = 3\n",
    "codebook, destortion = scipy.cluster.vq.kmeans(data, N, iter=20, thresh=1e-05)\n",
    "print 'codebook: ', codebook, 'destortion: ', destortion\n",
    "\n",
    "# ベクトル量子化\n",
    "# 各データをセントロイドに分類する\n",
    "code_rain, dist = scipy.cluster.vq.vq(data, codebook)\n",
    "\n",
    "# クラスタリング結果の確認\n",
    "print \"code: \", np.unique(code)\n",
    "print \"portion of each code: \"\n",
    "for i in xrange(N):\n",
    "    print \"num of [%d]: \" % i, np.count_nonzero((code_rain == i))\n",
    "\n",
    "# 順序尺度化\n",
    "## 並び替え、インデックスリストを作成する\n",
    "\n",
    "sorted_codebook = np.sort(codebook)\n",
    "code_rain, dist = scipy.cluster.vq.vq(data, sorted_codebook)\n",
    "\n",
    "print \"[confirmation] sorted codebook: \", sorted_codebook\n",
    "print \"[confirmation] portion of each ordinal code: \"\n",
    "for i in xrange(N):\n",
    "    print \"num of [%d]: \" % i, np.count_nonzero((code_rain == i))\n",
    "\n",
    "code_rain.shape = (3, 10)\n",
    "print code_rain"
   ]
  },
  {
   "cell_type": "code",
   "execution_count": 293,
   "metadata": {
    "collapsed": false
   },
   "outputs": [
    {
     "name": "stdout",
     "output_type": "stream",
     "text": [
      "cluster:0---\n",
      "[(5, 1052), (4, 1012), (3, 979), (2, 846), (1, 765), (0, 650), (6, 532), (7, 123)]\n",
      "cluster:1---\n",
      "[(0, 418), (1, 373), (2, 363), (3, 330), (4, 270), (5, 268), (6, 168), (7, 36)]\n",
      "cluster:2---\n",
      "[(1, 306), (0, 225), (2, 207), (3, 153), (4, 117), (5, 117), (6, 18)]\n"
     ]
    }
   ],
   "source": [
    "# percent[i, j] = float(np.count_nonzero( (hoge[:, 0] == i) & (hoge[:, 1] == j) )) / float(len( hoge ))\n",
    "\n",
    "# 天候クラスタ毎に歩行記録を取り出す\n",
    "# 天候クラスタ0\n",
    "pe = sep_code[:, np.where( code_rain[0] == 0 )].copy()\n",
    "tmp = np.resize(pe[:, 0, :], (127*9, ))\n",
    "pe = oct_code[:, np.where( code_rain[1] == 0 )].copy()\n",
    "cl_0 = np.hstack( [tmp, np.resize(pe[:, 0, :], (259*10, ))] )\n",
    "pr = nov_code[:, np.where( code_rain[2] == 0 )].copy()\n",
    "cl_0 = np.hstack( [cl_0, np.resize(pe[:, 0, :], (318*7, ))] )\n",
    "\n",
    "# 天候クラスタ1\n",
    "pe = nov_code[:, np.where( code_rain[2] == 1 )].copy()\n",
    "cl_1 = np.resize(pe[:, 0, :], (318*7, ))\n",
    "\n",
    "# 天候クラスタ2\n",
    "pe = sep_code[:, np.where( code_rain[0] == 2 )].copy()\n",
    "cl_2 = np.resize(pe[:, 0, :], (127*9, ))\n",
    "\n",
    "# 最頻歩行クラスタを出す\n",
    "from collections import Counter\n",
    "\n",
    "print 'cluster:0---'\n",
    "data = Counter(cl_0)\n",
    "print data.most_common()\n",
    "print 'cluster:1---'\n",
    "data = Counter(cl_1)\n",
    "print data.most_common()\n",
    "print 'cluster:2---'\n",
    "data = Counter(cl_2)\n",
    "print data.most_common()"
   ]
  },
  {
   "cell_type": "code",
   "execution_count": 295,
   "metadata": {
    "collapsed": true
   },
   "outputs": [],
   "source": [
    "import matplotlib.pylab as plt"
   ]
  },
  {
   "cell_type": "code",
   "execution_count": 326,
   "metadata": {
    "collapsed": false
   },
   "outputs": [
    {
     "name": "stdout",
     "output_type": "stream",
     "text": [
      "[(0, 650), (1, 765), (2, 846), (3, 979), (4, 1012), (5, 1052), (6, 532), (7, 123)]\n"
     ]
    },
    {
     "data": {
      "text/plain": [
       "<Container object of 8 artists>"
      ]
     },
     "execution_count": 326,
     "metadata": {},
     "output_type": "execute_result"
    },
    {
     "data": {
      "image/png": "[encoded data removed]",
      "text/plain": [
       "<matplotlib.figure.Figure at 0x7fead94c82d0>"
      ]
     },
     "metadata": {},
     "output_type": "display_data"
    }
   ],
   "source": [
    "%matplotlib inline\n",
    "\n",
    "data = [(5, 1052), (4, 1012), (3, 979), (2, 846), (1, 765), (0, 650), (6, 532), (7, 123)]\n",
    "sorted_data = sorted(data, key=lambda x: x[0])\n",
    "\n",
    "print sorted_data\n",
    "\n",
    "plt.bar(\n",
    "   [x[0] for x in sorted_data],\n",
    "   [x[1] for x in sorted_data]\n",
    ")"
   ]
  },
  {
   "cell_type": "code",
   "execution_count": 327,
   "metadata": {
    "collapsed": false
   },
   "outputs": [
    {
     "name": "stdout",
     "output_type": "stream",
     "text": [
      "[(0, 418), (1, 373), (2, 363), (3, 330), (4, 270), (5, 268), (6, 168), (7, 36)]\n"
     ]
    },
    {
     "data": {
      "text/plain": [
       "<Container object of 8 artists>"
      ]
     },
     "execution_count": 327,
     "metadata": {},
     "output_type": "execute_result"
    },
    {
     "data": {
      "image/png": "[encoded data removed]",
      "text/plain": [
       "<matplotlib.figure.Figure at 0x7fead9423d90>"
      ]
     },
     "metadata": {},
     "output_type": "display_data"
    }
   ],
   "source": [
    "data = [(0, 418), (1, 373), (2, 363), (3, 330), (4, 270), (5, 268), (6, 168), (7, 36)]\n",
    "sorted_data = sorted(data, key=lambda x: x[0])\n",
    "\n",
    "print sorted_data\n",
    "\n",
    "plt.bar(\n",
    "   [x[0] for x in sorted_data],\n",
    "   [x[1] for x in sorted_data]\n",
    ")"
   ]
  },
  {
   "cell_type": "code",
   "execution_count": 328,
   "metadata": {
    "collapsed": false
   },
   "outputs": [
    {
     "name": "stdout",
     "output_type": "stream",
     "text": [
      "[(0, 225), (1, 306), (2, 207), (3, 153), (4, 117), (5, 117), (6, 18)]\n"
     ]
    },
    {
     "data": {
      "text/plain": [
       "<Container object of 7 artists>"
      ]
     },
     "execution_count": 328,
     "metadata": {},
     "output_type": "execute_result"
    },
    {
     "data": {
      "image/png": "[encoded data removed]",
      "text/plain": [
       "<matplotlib.figure.Figure at 0x7fead931cb10>"
      ]
     },
     "metadata": {},
     "output_type": "display_data"
    }
   ],
   "source": [
    "data = [(1, 306), (0, 225), (2, 207), (3, 153), (4, 117), (5, 117), (6, 18)]\n",
    "sorted_data = sorted(data, key=lambda x: x[0])\n",
    "\n",
    "print sorted_data\n",
    "\n",
    "plt.xlim(0, 8)\n",
    "plt.bar(\n",
    "   [x[0] for x in sorted_data],\n",
    "   [x[1] for x in sorted_data]\n",
    ")"
   ]
  },
  {
   "cell_type": "markdown",
   "metadata": {},
   "source": [
    "## 休日の解析"
   ]
  },
  {
   "cell_type": "code",
   "execution_count": 289,
   "metadata": {
    "collapsed": false
   },
   "outputs": [
    {
     "name": "stdout",
     "output_type": "stream",
     "text": [
      "休日クラスタ---\n",
      "[(4, 1067), (5, 1024), (3, 1010), (2, 878), (1, 797), (0, 637), (6, 445), (7, 101)]\n",
      "平日クラスタ---\n",
      "[(5, 1405), (4, 1388), (3, 1343), (2, 1188), (1, 1081), (0, 926), (6, 696), (7, 158)]\n"
     ]
    }
   ],
   "source": [
    "# 休日かどうかでデータを取り出す\n",
    "# 休日クラスタ\n",
    "pe = sep_code[:, np.where( DAY[0] == 0 )].copy()\n",
    "tmp = np.resize(pe[:, 0, :], (127*9, ))\n",
    "pe = oct_code[:, np.where( DAY[1] == 0 )].copy()\n",
    "cl_0 = np.hstack( [tmp, np.resize(pe[:, 0, :], (259*10, ))] )\n",
    "pr = nov_code[:, np.where( DAY[2] == 0 )].copy()\n",
    "cl_0 = np.hstack( [cl_0, np.resize(pe[:, 0, :], (318*7, ))] )\n",
    "\n",
    "# 平日クラスタ\n",
    "pe = sep_code[:, np.where( DAY[0] == 1 )].copy()\n",
    "tmp = np.resize(pe[:, 0, :], (127*9, ))\n",
    "pe = oct_code[:, np.where( DAY[1] == 1 )].copy()\n",
    "cl_1 = np.hstack( [tmp, np.resize(pe[:, 0, :], (259*10, ))] )\n",
    "pr = nov_code[:, np.where( DAY[2] == 1 )].copy()\n",
    "cl_1 = np.hstack( [cl_0, np.resize(pe[:, 0, :], (318*7, ))] )\n",
    "\n",
    "# 最頻歩行クラスタを出す\n",
    "# from collections import Counter\n",
    "\n",
    "print '休日クラスタ---'\n",
    "data = Counter(cl_0)\n",
    "print data.most_common()\n",
    "print '平日クラスタ---'\n",
    "data = Counter(cl_1)\n",
    "print data.most_common()"
   ]
  },
  {
   "cell_type": "code",
   "execution_count": 299,
   "metadata": {
    "collapsed": false
   },
   "outputs": [
    {
     "name": "stdout",
     "output_type": "stream",
     "text": [
      "[(0, 637), (1, 797), (2, 878), (3, 1010), (4, 1067), (5, 1024), (6, 445), (7, 101)]\n"
     ]
    },
    {
     "data": {
      "text/plain": [
       "<Container object of 8 artists>"
      ]
     },
     "execution_count": 299,
     "metadata": {},
     "output_type": "execute_result"
    },
    {
     "data": {
      "image/png": "[encoded data removed]",
      "text/plain": [
       "<matplotlib.figure.Figure at 0x7feadad12310>"
      ]
     },
     "metadata": {},
     "output_type": "display_data"
    }
   ],
   "source": [
    "data = [(4, 1067), (5, 1024), (3, 1010), (2, 878), (1, 797), (0, 637), (6, 445), (7, 101)]\n",
    "sorted_data = sorted(data, key=lambda x: x[0])\n",
    "\n",
    "print sorted_data\n",
    "\n",
    "plt.bar(\n",
    "   [x[0] for x in sorted_data],\n",
    "   [x[1] for x in sorted_data]\n",
    ")"
   ]
  },
  {
   "cell_type": "code",
   "execution_count": 300,
   "metadata": {
    "collapsed": false
   },
   "outputs": [
    {
     "name": "stdout",
     "output_type": "stream",
     "text": [
      "[(0, 926), (1, 1081), (2, 1188), (3, 1343), (4, 1388), (5, 1405), (6, 696), (7, 158)]\n"
     ]
    },
    {
     "data": {
      "text/plain": [
       "<Container object of 8 artists>"
      ]
     },
     "execution_count": 300,
     "metadata": {},
     "output_type": "execute_result"
    },
    {
     "data": {
      "image/png": "[encoded data removed]",
      "text/plain": [
       "<matplotlib.figure.Figure at 0x7feadaae53d0>"
      ]
     },
     "metadata": {},
     "output_type": "display_data"
    }
   ],
   "source": [
    "data = [(5, 1405), (4, 1388), (3, 1343), (2, 1188), (1, 1081), (0, 926), (6, 696), (7, 158)]\n",
    "sorted_data = sorted(data, key=lambda x: x[0])\n",
    "\n",
    "print sorted_data\n",
    "\n",
    "plt.bar(\n",
    "   [x[0] for x in sorted_data],\n",
    "   [x[1] for x in sorted_data]\n",
    ")"
   ]
  },
  {
   "cell_type": "code",
   "execution_count": null,
   "metadata": {
    "collapsed": true
   },
   "outputs": [],
   "source": []
  }
 ],
 "metadata": {
  "kernelspec": {
   "display_name": "Python 2",
   "language": "python",
   "name": "python2"
  },
  "language_info": {
   "codemirror_mode": {
    "name": "ipython",
    "version": 2
   },
   "file_extension": ".py",
   "mimetype": "text/x-python",
   "name": "python",
   "nbconvert_exporter": "python",
   "pygments_lexer": "ipython2",
   "version": "2.7.12"
  }
 },
 "nbformat": 4,
 "nbformat_minor": 1
}
