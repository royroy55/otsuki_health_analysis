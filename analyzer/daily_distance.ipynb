{
 "cells": [
  {
   "cell_type": "code",
   "execution_count": 4,
   "metadata": {
    "collapsed": false
   },
   "outputs": [],
   "source": [
    "import os\n",
    "import re\n",
    "import datetime\n",
    "import numpy\n",
    "import pickle\n",
    "from pprint import pformat\n",
    "os.environ[\"DJANGO_SETTINGS_MODULE\"] = \"analyzer.settings\"\n",
    "import django\n",
    "django.setup()\n",
    "\n",
    "from analyzer import settings\n",
    "from record.models import User, Group, Summary\n",
    "\n",
    "username_expr = re.compile('(?P<season>[1-3])teku(?P<id>[0-9]+)')\n",
    "\n",
    "datasets = {1: [], 2: [], 3: []}\n",
    "seasons = {\n",
    "    1: datetime.datetime.strptime('2015/09/11', '%Y/%m/%d'),\n",
    "    2: datetime.datetime.strptime('2015/10/06', '%Y/%m/%d'),\n",
    "    3: datetime.datetime.strptime('2015/11/01', '%Y/%m/%d')\n",
    "}\n",
    "for user in User.objects.all():\n",
    "    m = username_expr.match(user.username)\n",
    "    if not m:\n",
    "        continue\n",
    "    season = int(m.group('season'))\n",
    "    season_start_date = seasons[season]\n",
    "    date_dict = dict((season_start_date + datetime.timedelta(days=i), 0) for i in range(10))\n",
    "    for summary in Summary.objects.filter(username=user.username):\n",
    "        if summary.steps == 0: continue\n",
    "        date_dict[summary.date] += summary.distance\n",
    "    ary = [distance for date, distance in sorted(date_dict.items(), key=lambda x: x[0])]\n",
    "    if sum(ary) == 0:\n",
    "        continue\n",
    "    datasets[season].append(ary)\n",
    "\n",
    "for k, v in datasets.items():\n",
    "    with open('10days_distance.seasion{}.pkl'.format(k), 'wb') as fp:\n",
    "        pickle.dump(numpy.array(v), fp)"
   ]
  },
  {
   "cell_type": "code",
   "execution_count": null,
   "metadata": {
    "collapsed": true
   },
   "outputs": [],
   "source": []
  }
 ],
 "metadata": {
  "kernelspec": {
   "display_name": "Python 2",
   "language": "python",
   "name": "python2"
  },
  "language_info": {
   "codemirror_mode": {
    "name": "ipython",
    "version": 2
   },
   "file_extension": ".py",
   "mimetype": "text/x-python",
   "name": "python",
   "nbconvert_exporter": "python",
   "pygments_lexer": "ipython2",
   "version": "2.7.11"
  }
 },
 "nbformat": 4,
 "nbformat_minor": 0
}
