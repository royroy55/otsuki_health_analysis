{
 "cells": [
  {
   "cell_type": "markdown",
   "metadata": {},
   "source": [
    "# 発表に向けて情報をちょちょいするバージョン"
   ]
  },
  {
   "cell_type": "code",
   "execution_count": 1,
   "metadata": {
    "collapsed": true
   },
   "outputs": [],
   "source": [
    "%matplotlib inline\n",
    "import random\n",
    "import numpy as np\n",
    "import matplotlib.pylab as plt\n",
    "import os\n",
    "os.environ[\"DJANGO_SETTINGS_MODULE\"] = \"analyzer.settings\"\n",
    "import sys\n",
    "import django\n",
    "django.setup()"
   ]
  },
  {
   "cell_type": "code",
   "execution_count": 2,
   "metadata": {
    "collapsed": true
   },
   "outputs": [],
   "source": [
    "import datetime\n",
    "from datetime import timedelta"
   ]
  },
  {
   "cell_type": "code",
   "execution_count": 3,
   "metadata": {
    "collapsed": true
   },
   "outputs": [],
   "source": [
    "import pickle"
   ]
  },
  {
   "cell_type": "code",
   "execution_count": 4,
   "metadata": {
    "collapsed": true
   },
   "outputs": [],
   "source": [
    "# pickleからデータを開く\n",
    "with open('kampo_list.pickle', mode='rb') as f:\n",
    "    keme = pickle.load(f)\n",
    "# group.name, user_count, start_day, user.username, steps, distance, kampo, step1, step2, ... , step10"
   ]
  },
  {
   "cell_type": "code",
   "execution_count": 159,
   "metadata": {
    "collapsed": false
   },
   "outputs": [
    {
     "data": {
      "image/png": "[encoded data removed]",
      "text/plain": [
       "<matplotlib.figure.Figure at 0x7f769dd723d0>"
      ]
     },
     "metadata": {},
     "output_type": "display_data"
    }
   ],
   "source": [
    "hoge = keme[:, 7:17].copy()\n",
    "rows = np.array([])\n",
    "for i in range(len(hoge)):\n",
    "    if sum(hoge[i]) == 0.0:\n",
    "        rows = np.append( rows, i )\n",
    "hoge = np.delete( hoge, rows, 0 )\n",
    "hoge.shape = len(hoge)*10,\n",
    "\n",
    "# plt.figure(figsize=(16,6))\n",
    "# plt.hist(hoge, bins=1000)\n",
    "# plt.ylim(0, 210)\n",
    "# plt.xlim(0, 38000)\n",
    "# plt.xticks([1840, 3782, 5599, 7521, 10111, 14863, 20000, 25840, 30000, 35000, 40000], [1840, 3782, 5599, 7521, 10111, 14863, 20000, 25840, 30000, 35000, 40000])\n",
    "# # plt.xticks([1840, 3782, 5000, 5599, 7521, 10000, 10111, 14863, 15000, 25000, 25840, 30000, 35000, 40000], [1840, 3782, 5000, 5599, 7521, 10000, 10111, 14863, 15000, 25000, 25840, 30000, 35000, 40000])\n",
    "# plt.show()\n",
    "\n",
    "hoge = hoge[hoge != 0.0]\n",
    "plt.figure(figsize=(16,4))\n",
    "plt.hist(hoge, bins=1000)\n",
    "# plt.ylim(0, 210)\n",
    "plt.xlim(0, 38000)\n",
    "plt.xticks([1840, 3782, 5599, 7521, 10111, 14863, 20000, 25840, 30000, 35000, 40000], [1840, 3782, 5599, 7521, 10111, 14863, 20000, 25840, 30000, 35000, 40000])\n",
    "# plt.xticks([1840, 3782, 5000, 5599, 7521, 10000, 10111, 14863, 15000, 25000, 25840, 30000, 35000, 40000], [1840, 3782, 5000, 5599, 7521, 10000, 10111, 14863, 15000, 25000, 25840, 30000, 35000, 40000])\n",
    "# plt.show()\n",
    "plt.savefig(\"graph.pdf\")"
   ]
  },
  {
   "cell_type": "code",
   "execution_count": 6,
   "metadata": {
    "collapsed": false
   },
   "outputs": [
    {
     "name": "stdout",
     "output_type": "stream",
     "text": [
      "93679.0 56207.4\n"
     ]
    }
   ],
   "source": [
    "print max(hoge), max(hoge)*0.6"
   ]
  },
  {
   "cell_type": "code",
   "execution_count": 7,
   "metadata": {
    "collapsed": true
   },
   "outputs": [],
   "source": [
    "mikan_data = keme[np.where( keme[:, 6] == False ), 7:17].copy()\n",
    "kampo_data = keme[np.where( keme[:, 6] == True ), 7:17].copy()\n",
    "mikan_data = mikan_data[0, ]\n",
    "kampo_data = kampo_data[0, ]"
   ]
  },
  {
   "cell_type": "code",
   "execution_count": 8,
   "metadata": {
    "collapsed": true
   },
   "outputs": [],
   "source": [
    "import scipy\n",
    "from scipy import cluster"
   ]
  },
  {
   "cell_type": "code",
   "execution_count": 9,
   "metadata": {
    "collapsed": false
   },
   "outputs": [],
   "source": [
    "sep_data = keme[np.where( keme[:, 2] == datetime.date(2015, 9, 11) ), 7:17].copy()\n",
    "sep_data = sep_data[0, ]\n",
    "\n",
    "oct_data = keme[np.where( keme[:, 2] == datetime.date(2015, 10, 6) ), 7:17].copy()\n",
    "oct_data = oct_data[0, ]\n",
    "\n",
    "nov_data = keme[np.where( keme[:, 2] == datetime.date(2015, 11, 1) ), 7:17].copy()\n",
    "nov_data = nov_data[0, ]"
   ]
  },
  {
   "cell_type": "code",
   "execution_count": 10,
   "metadata": {
    "collapsed": false
   },
   "outputs": [
    {
     "name": "stdout",
     "output_type": "stream",
     "text": [
      "(189, 10) (388, 10) (460, 10)\n",
      "(127, 10) (259, 10) (318, 10)\n"
     ]
    }
   ],
   "source": [
    "# それぞれ ゼロばっかりの記録の人を除く\n",
    "print sep_data.shape, oct_data.shape, nov_data.shape\n",
    "\n",
    "rows = np.array([])\n",
    "for i in range(len(sep_data)):\n",
    "    if sum(sep_data[i]) == 0.0:\n",
    "        rows = np.append( rows, i )\n",
    "sep_data = np.delete( sep_data, rows, 0 )\n",
    "\n",
    "rows = np.array([])\n",
    "for i in range(len(oct_data)):\n",
    "    if sum(oct_data[i]) == 0.0:\n",
    "        rows = np.append( rows, i )\n",
    "oct_data = np.delete( oct_data, rows, 0 )\n",
    "\n",
    "rows = np.array([])\n",
    "for i in range(len(nov_data)):\n",
    "    if sum(nov_data[i]) == 0.0:\n",
    "        rows = np.append( rows, i )\n",
    "nov_data = np.delete( nov_data, rows, 0 )\n",
    "\n",
    "print sep_data.shape, oct_data.shape, nov_data.shape"
   ]
  },
  {
   "cell_type": "markdown",
   "metadata": {},
   "source": [
    "# ベクトル量子化してみよう！"
   ]
  },
  {
   "cell_type": "markdown",
   "metadata": {},
   "source": [
    "# あきらめて杉山先生の量子化結果をもらう"
   ]
  },
  {
   "cell_type": "code",
   "execution_count": 11,
   "metadata": {
    "collapsed": false
   },
   "outputs": [
    {
     "name": "stdout",
     "output_type": "stream",
     "text": [
      "[   832.01855469   2849.14038086   4715.02880859   6483.97900391\n",
      "   8558.92480469  11663.4296875   18064.2734375   33613.1328125 ]\n"
     ]
    }
   ],
   "source": [
    "codebook = np.array([ 18064.2734375, 6483.97900391, 8558.92480469, 2849.14038086, \n",
    "                     11663.4296875, 832.01855469, 33613.1328125, 4715.02880859])\n",
    "codebook = np.sort(codebook)\n",
    "print codebook"
   ]
  },
  {
   "cell_type": "code",
   "execution_count": 12,
   "metadata": {
    "collapsed": false
   },
   "outputs": [],
   "source": [
    "# codebookを参照して月ごとのデータを離散化\n",
    "# 各データをセントロイドに分類する\n",
    "# ----------9月のデータ-------------#\n",
    "data = sep_data.copy()\n",
    "data = data.astype(np.float32)\n",
    "data.shape = 1270,\n",
    "\n",
    "sep_code, dist = scipy.cluster.vq.vq(data, codebook)\n",
    "\n",
    "# print \"portion of each code: \"\n",
    "# for i in xrange(8):\n",
    "#     print \"num of [%d]: \" % i, np.count_nonzero((sep_code == i))\n",
    "sep_code.shape = (127, 10)\n",
    "\n",
    "\n",
    "# ----------10月のデータ-------------#\n",
    "data = oct_data.copy()\n",
    "data = data.astype(np.float32)\n",
    "data.shape = 2590,\n",
    "\n",
    "oct_code, dist = scipy.cluster.vq.vq(data, codebook)\n",
    "\n",
    "# print \"portion of each code: \"\n",
    "# for i in xrange(8):\n",
    "#     print \"num of [%d]: \" % i, np.count_nonzero((oct_code == i))\n",
    "oct_code.shape = (259, 10)\n",
    "\n",
    "\n",
    "# ----------11月のデータ-------------#\n",
    "data = nov_data.copy()\n",
    "data = data.astype(np.float32)\n",
    "data.shape = 3180,\n",
    "\n",
    "nov_code, dist = scipy.cluster.vq.vq(data, codebook)\n",
    "\n",
    "# print \"portion of each code: \"\n",
    "# for i in xrange(8):\n",
    "#     print \"num of [%d]: \" % i, np.count_nonzero((nov_code == i))\n",
    "nov_code.shape = (318, 10)"
   ]
  },
  {
   "cell_type": "code",
   "execution_count": 13,
   "metadata": {
    "collapsed": true
   },
   "outputs": [],
   "source": [
    "sep_data = sep_code.copy()\n",
    "oct_data = oct_code.copy()\n",
    "nov_data = nov_code.copy()"
   ]
  },
  {
   "cell_type": "code",
   "execution_count": 14,
   "metadata": {
    "collapsed": true
   },
   "outputs": [],
   "source": [
    "import pandas\n",
    "import seaborn"
   ]
  },
  {
   "cell_type": "code",
   "execution_count": 15,
   "metadata": {
    "collapsed": true
   },
   "outputs": [],
   "source": [
    "X = np.vstack([ sep_data, oct_data, nov_data ])"
   ]
  },
  {
   "cell_type": "code",
   "execution_count": 152,
   "metadata": {
    "collapsed": true
   },
   "outputs": [],
   "source": [
    "import matplotlib.pyplot as plt\n",
    "# color = ['crimson', 'coral', 'gold', 'mediumaquamarine', 'lightskyblue', 'dodgerblue', 'navy', 'orchid']\n",
    "color = ['gold', 'khaki', 'lemonchiffon', 'plum', 'thistle', 'lightpink', 'coral', 'crimson']"
   ]
  },
  {
   "cell_type": "code",
   "execution_count": 17,
   "metadata": {
    "collapsed": true
   },
   "outputs": [],
   "source": [
    "from nxpd import draw, nxpdParams"
   ]
  },
  {
   "cell_type": "code",
   "execution_count": 18,
   "metadata": {
    "collapsed": true
   },
   "outputs": [],
   "source": [
    "PLUS = np.array([ [False, True, True, True, True, True, True, True],\n",
    "                  [False, False, True, True, True, True, True, True],\n",
    "                  [False, False, False, True, True, True, True, True],\n",
    "                  [False, False, False, False, True, True, True, True],\n",
    "                  [False, False, False, False, False, True, True, True],\n",
    "                  [False, False, False, False, False, False, True, True],\n",
    "                  [False, False, False, False, False, False, False, True],\n",
    "                  [False, False, False, False, False, False, False, False] ])\n",
    "\n",
    "MINUS = np.array([ [False, False, False, False, False, False, False, False],\n",
    "                   [True, False, False, False, False, False, False, False],\n",
    "                   [True, True, False, False, False, False, False, False],\n",
    "                   [True, True, True, False, False, False, False, False],\n",
    "                   [True, True, True, True, False, False, False, False],\n",
    "                   [True, True, True, True, True, False, False, False],\n",
    "                   [True, True, True, True, True, True, False, False],\n",
    "                   [True, True, True, True, True, True, True, False] ])\n",
    "\n",
    "IJI = np.array([ [True, False, False, False, False, False, False, False],\n",
    "                 [False, True, False, False, False, False, False, False],\n",
    "                 [False, False, True, False, False, False, False, False],\n",
    "                 [False, False, False, True, False, False, False, False],\n",
    "                 [False, False, False, False, True, False, False, False],\n",
    "                 [False, False, False, False, False, True, False, False],\n",
    "                 [False, False, False, False, False, False, True, False],\n",
    "                 [False, False, False, False, False, False, False, True] ])\n",
    "\n",
    "# counts = np.zeros((N, N), np.int32)\n",
    "# for x in X:\n",
    "#     for idx, s in enumerate(x):\n",
    "#         if idx == len(x) - 1: break\n",
    "#         counts[s][x[idx + 1]] += 1\n",
    "# counts_df = pandas.DataFrame(counts)"
   ]
  },
  {
   "cell_type": "code",
   "execution_count": 75,
   "metadata": {
    "collapsed": false
   },
   "outputs": [],
   "source": [
    "# ------------増減維などの確率を出す関数------------ #\n",
    "# default = np.array([[True for i in range(N)] for j in range(N)])\n",
    "\n",
    "def trend(X, N, FIL, SUM=np.array([[True for i in range(N)] for j in range(N)])):\n",
    "    default = np.array([[True for i in range(N)] for j in range(N)])\n",
    "    counts = np.zeros((N, N), np.int32)\n",
    "    for x in X:\n",
    "        for idx, s in enumerate(x):\n",
    "            if idx == len(x) - 1: break\n",
    "            counts[s][x[idx + 1]] += 1\n",
    "    # counts_df = pandas.DataFrame(counts)\n",
    "    \n",
    "    total = np.sum( counts[SUM.nonzero()] )\n",
    "\n",
    "    #pls = float(np.sum( counts[PLUS.nonzero()] )) / float(np.sum(counts))\n",
    "    #mns = float(np.sum( counts[MINUS.nonzero()] )) / float(np.sum(counts))\n",
    "    #iji = float(np.sum( counts[IJI.nonzero()] )) / float(np.sum(counts))\n",
    "    fil = float(np.sum( counts[FIL.nonzero()] )) / float(total)\n",
    "    \n",
    "    return fil"
   ]
  },
  {
   "cell_type": "markdown",
   "metadata": {},
   "source": [
    "# 天候について解析"
   ]
  },
  {
   "cell_type": "code",
   "execution_count": 38,
   "metadata": {
    "collapsed": false
   },
   "outputs": [],
   "source": [
    "# 10日間の天候リスト 降雨ありが1、なしが0\n",
    "# WEATHER = np.array([[0, 0, 0, 0, 0, 1, 1, 0, 0, 0], \n",
    "#                     [0, 0, 0, 1, 0, 1, 0, 0, 0, 0], \n",
    "#                     [0, 1, 1, 0, 0, 0, 0, 1, 1, 1]])\n",
    "\n",
    "# codebook:  [  0.42307692  13.83333333  42.        ]で順序尺度化した天候\n",
    "# WEATHER = np.array([[0 0 0 0 0 0 2 0 0 0],\n",
    "#                     [0 0 0 0 0 0 0 0 0 0],\n",
    "#                     [0 1 0 0 0 0 0 1 1 0]])"
   ]
  },
  {
   "cell_type": "markdown",
   "metadata": {},
   "source": [
    "### 晴→晴"
   ]
  },
  {
   "cell_type": "code",
   "execution_count": 155,
   "metadata": {
    "collapsed": false
   },
   "outputs": [
    {
     "name": "stdout",
     "output_type": "stream",
     "text": [
      "[[ 0.3889  0.1733  0.1044  0.1022  0.1156  0.0778  0.0311  0.0067]\n",
      " [ 0.1507  0.2463  0.2004  0.1636  0.1029  0.0846  0.046   0.0055]\n",
      " [ 0.0898  0.1644  0.2268  0.2237  0.1461  0.1096  0.0365  0.003 ]\n",
      " [ 0.0655  0.1088  0.2045  0.2543  0.1887  0.118   0.0524  0.0079]\n",
      " [ 0.07    0.1038  0.1154  0.1946  0.2374  0.192   0.0804  0.0065]\n",
      " [ 0.0493  0.074   0.1085  0.1319  0.1837  0.3107  0.1332  0.0086]\n",
      " [ 0.0507  0.0314  0.0507  0.0845  0.1401  0.2874  0.2802  0.0749]\n",
      " [ 0.0488  0.0488  0.0366  0.0488  0.061   0.0976  0.3171  0.3415]]\n"
     ]
    }
   ],
   "source": [
    "N = 8\n",
    "# 晴->晴の場合に切り出し\n",
    "hoge = np.vstack( [sep_data[:, 0:2],\n",
    "                  sep_data[:, 1:3],\n",
    "                  sep_data[:, 2:4],\n",
    "                  sep_data[:, 3:5],\n",
    "                  sep_data[:, 4:6],\n",
    "                  sep_data[:, 7:9],\n",
    "                  sep_data[:, 8:],\n",
    "                  oct_data[:, 0:2],\n",
    "                  oct_data[:, 1:3],\n",
    "                  oct_data[:, 2:4],\n",
    "                  oct_data[:, 3:5],\n",
    "                  oct_data[:, 4:6],\n",
    "                  oct_data[:, 5:7],\n",
    "                  oct_data[:, 6:8],\n",
    "                  oct_data[:, 7:9],\n",
    "                  oct_data[:, 8:],\n",
    "                  nov_data[:, 2:4],\n",
    "                  nov_data[:, 3:5],\n",
    "                  nov_data[:, 4:6],\n",
    "                  nov_data[:, 5:7]] )\n",
    "\n",
    "# s0->s0に遷移する確率みたいな感じを順番に数える\n",
    "percent = np.array([[0.0 for i in range(N)] for j in range(N)])\n",
    "for i in range(N):\n",
    "    for j in range(N):\n",
    "        percent[i, j] = float(np.count_nonzero( (hoge[:, 0] == i) & (hoge[:, 1] == j) )) / float(np.count_nonzero( (hoge[:, 0] == i)))\n",
    "print np.around(percent, 4)"
   ]
  },
  {
   "cell_type": "code",
   "execution_count": 153,
   "metadata": {
    "collapsed": false
   },
   "outputs": [
    {
     "data": {
      "image/png": "[encoded data removed]",
      "text/plain": [
       "<matplotlib.figure.Figure at 0x7f769e11b510>"
      ]
     },
     "metadata": {},
     "output_type": "display_data"
    }
   ],
   "source": [
    "percent_df = pandas.DataFrame(percent)\n",
    "# buff = np.around(percent, 2)\n",
    "# buff.shape = N*N\n",
    "percent_df.plot.barh(stacked=True, color=color, legend=False)\n",
    "# percent_df.plot.barh(stacked=True, color=color)\n",
    "plt.xticks( [0.1, 0.2, 0.3, 0.4, 0.5, 0.6, 0.7, 0.8, 0.9, 1.0], ['10%', '20%', '30%', '40%', '50%', '60%', '70%', '80%', '90%', '100%'] )\n",
    "plt.gca().invert_yaxis()"
   ]
  },
  {
   "cell_type": "code",
   "execution_count": 46,
   "metadata": {
    "collapsed": false
   },
   "outputs": [
    {
     "name": "stdout",
     "output_type": "stream",
     "text": [
      "plus:  0.35284951024\n",
      "minus:  0.373107747106\n",
      "iji:  0.274042742654\n"
     ]
    }
   ],
   "source": [
    "# FIL = np.array([ [False, False, False, False, False, False, False, False],\n",
    "#                  [False, False, True, True, True, True, True, True],\n",
    "#                  [False, False, False, True, True, True, True, True],\n",
    "#                  [False, False, False, False, True, True, True, True],\n",
    "#                  [False, False, False, False, False, True, True, True],\n",
    "#                  [False, False, False, False, False, False, False, False],\n",
    "#                  [False, False, False, False, False, False, False, False],\n",
    "#                  [False, False, False, False, False, False, False, False] ])\n",
    "# fil = trend(hoge, N, FIL)\n",
    "# print 'filter: ', fil\n",
    "pls = trend(hoge, N, PLUS)\n",
    "print 'plus: ', pls\n",
    "mns = trend(hoge, N, MINUS)\n",
    "print 'minus: ', mns\n",
    "iji = trend(hoge, N, IJI)\n",
    "print 'iji: ', iji"
   ]
  },
  {
   "cell_type": "code",
   "execution_count": 156,
   "metadata": {
    "collapsed": false
   },
   "outputs": [
    {
     "name": "stdout",
     "output_type": "stream",
     "text": [
      "plus:  0.259127337489\n",
      "minus:  0.202804986643\n",
      "iji:  0.146927871772\n"
     ]
    }
   ],
   "source": [
    "FIL = np.array([ [False, False, False, False, False, False, False, False],\n",
    "                 [False, False, True, True, True, True, True, True],\n",
    "                 [False, False, False, True, True, True, True, True],\n",
    "                 [False, False, False, False, True, True, True, True],\n",
    "                 [False, False, False, False, False, True, True, True],\n",
    "                 [False, False, False, False, False, False, False, False],\n",
    "                 [False, False, False, False, False, False, False, False],\n",
    "                 [False, False, False, False, False, False, False, False] ])\n",
    "pls = trend(hoge, N, FIL)\n",
    "print 'plus: ', pls\n",
    "FIL = np.array([ [False, False, False, False, False, False, False, False],\n",
    "                 [True, False, False, False, False, False, False, False],\n",
    "                 [True, True, False, False, False, False, False, False],\n",
    "                 [True, True, True, False, False, False, False, False],\n",
    "                 [True, True, True, True, False, False, False, False],\n",
    "                 [False, False, False, False, False, False, False, False],\n",
    "                 [False, False, False, False, False, False, False, False],\n",
    "                 [False, False, False, False, False, False, False, False] ])\n",
    "mns = trend(hoge, N, FIL)\n",
    "print 'minus: ', mns\n",
    "FIL = np.array([ [False, False, False, False, False, False, False, False],\n",
    "                 [False, True, False, False, False, False, False, False],\n",
    "                 [False, False, True, False, False, False, False, False],\n",
    "                 [False, False, False, True, False, False, False, False],\n",
    "                 [False, False, False, False, True, False, False, False],\n",
    "                 [False, False, False, False, False, False, False, False],\n",
    "                 [False, False, False, False, False, False, False, False],\n",
    "                 [False, False, False, False, False, False, False, False] ])\n",
    "iji = trend(hoge, N, FIL)\n",
    "print 'iji: ', iji"
   ]
  },
  {
   "cell_type": "markdown",
   "metadata": {},
   "source": [
    "### 晴→雨"
   ]
  },
  {
   "cell_type": "code",
   "execution_count": 113,
   "metadata": {
    "collapsed": false
   },
   "outputs": [
    {
     "name": "stdout",
     "output_type": "stream",
     "text": [
      "[[ 0.4078  0.2039  0.1845  0.0874  0.0583  0.0194  0.0388  0.    ]\n",
      " [ 0.2245  0.2857  0.2245  0.102   0.0714  0.0408  0.051   0.    ]\n",
      " [ 0.1961  0.2941  0.2255  0.1373  0.0882  0.0392  0.0196  0.    ]\n",
      " [ 0.232   0.12    0.136   0.224   0.136   0.08    0.072   0.    ]\n",
      " [ 0.144   0.176   0.184   0.176   0.128   0.12    0.064   0.008 ]\n",
      " [ 0.0826  0.1193  0.1284  0.156   0.1835  0.2752  0.055   0.    ]\n",
      " [ 0.15    0.0875  0.1125  0.1125  0.0875  0.225   0.175   0.05  ]\n",
      " [ 0.0476  0.0476  0.0476  0.      0.1429  0.2381  0.2381  0.2381]]\n"
     ]
    }
   ],
   "source": [
    "# 晴->雨の場合に切り出し\n",
    "N=8\n",
    "hoge = np.vstack( [sep_data[:, 5:7],\n",
    "                  nov_data[:, 0:2],\n",
    "                  nov_data[:, 6:8]] )\n",
    "\n",
    "# s0->s0に遷移する確率みたいな感じを順番に数える\n",
    "percent = np.array([[0.0 for i in range(N)] for j in range(N)])\n",
    "for i in range(N):\n",
    "    for j in range(N):\n",
    "        percent[i, j] = float(np.count_nonzero( (hoge[:, 0] == i) & (hoge[:, 1] == j) )) / float(np.count_nonzero( (hoge[:, 0] == i)))\n",
    "print np.around(percent, 4)"
   ]
  },
  {
   "cell_type": "code",
   "execution_count": 114,
   "metadata": {
    "collapsed": false
   },
   "outputs": [
    {
     "data": {
      "image/png": "[encoded data removed]",
      "text/plain": [
       "<matplotlib.figure.Figure at 0x7f769e5db450>"
      ]
     },
     "metadata": {},
     "output_type": "display_data"
    }
   ],
   "source": [
    "percent_df = pandas.DataFrame(percent)\n",
    "percent_df.plot.barh(stacked=True, color=color, legend=False);\n",
    "# percent_df.plot.barh(stacked=True, color=color)\n",
    "plt.xticks( [0.1, 0.2, 0.3, 0.4, 0.5, 0.6, 0.7, 0.8, 0.9, 1.0], ['10%', '20%', '30%', '40%', '50%', '60%', '70%', '80%', '90%', '100%'] )\n",
    "plt.gca().invert_yaxis()"
   ]
  },
  {
   "cell_type": "code",
   "execution_count": 81,
   "metadata": {
    "collapsed": false
   },
   "outputs": [
    {
     "name": "stdout",
     "output_type": "stream",
     "text": [
      "filter:  0.82\n",
      "plus:  0.272608125819\n",
      "minus:  0.483617300131\n",
      "iji:  0.24377457405\n"
     ]
    }
   ],
   "source": [
    "FIL = np.array([ [False, False, False, False, False, False, False, False],\n",
    "                 [True, True, True, True, True, True, True, True],\n",
    "                 [True, True, True, True, True, True, True, True],\n",
    "                 [True, True, True, True, True, True, True, True],\n",
    "                 [True, True, True, True, True, True, True, True],\n",
    "                 [True, True, True, True, True, True, True, True],\n",
    "                 [True, True, True, True, True, True, True, True],\n",
    "                 [True, True, True, True, True, True, True, True] ])\n",
    "fil = trend(hoge, N, MINUS, SUM)\n",
    "print 'filter: ', fil\n",
    "pls = trend(hoge, N, PLUS)\n",
    "print 'plus: ', pls\n",
    "mns = trend(hoge, N, MINUS)\n",
    "print 'minus: ', mns\n",
    "iji = trend(hoge, N, IJI)\n",
    "print 'iji: ', iji"
   ]
  },
  {
   "cell_type": "markdown",
   "metadata": {},
   "source": [
    "### 雨→晴"
   ]
  },
  {
   "cell_type": "code",
   "execution_count": 136,
   "metadata": {
    "collapsed": false
   },
   "outputs": [
    {
     "name": "stdout",
     "output_type": "stream",
     "text": [
      "[[ 0.3231  0.1615  0.1308  0.1308  0.1154  0.0846  0.0385  0.0154]\n",
      " [ 0.0845  0.2042  0.162   0.1972  0.1479  0.1479  0.0282  0.0282]\n",
      " [ 0.0576  0.1655  0.1655  0.1942  0.1511  0.1871  0.0647  0.0144]\n",
      " [ 0.0496  0.1405  0.1405  0.2231  0.2066  0.157   0.0661  0.0165]\n",
      " [ 0.0215  0.0968  0.1398  0.172   0.2688  0.172   0.1183  0.0108]\n",
      " [ 0.0526  0.0211  0.0947  0.1263  0.1368  0.3053  0.2211  0.0421]\n",
      " [ 0.      0.0556  0.0278  0.0278  0.1389  0.2222  0.4444  0.0833]\n",
      " [ 0.      0.      0.      0.      0.      0.1429  0.4286  0.4286]]\n"
     ]
    }
   ],
   "source": [
    "N = 8\n",
    "# 雨->晴の場合に切り出し\n",
    "hoge = np.vstack( [sep_data[:, 6:8],\n",
    "                  nov_data[:, 1:3],\n",
    "                  nov_data[:, 8:10]] )\n",
    "\n",
    "# s0->s0に遷移する確率みたいな感じを順番に数える\n",
    "percent = np.array([[0.0 for i in range(N)] for j in range(N)])\n",
    "for i in range(N):\n",
    "    for j in range(N):\n",
    "        percent[i, j] = float(np.count_nonzero( (hoge[:, 0] == i) & (hoge[:, 1] == j) )) / float(np.count_nonzero( (hoge[:, 0] == i)))\n",
    "print np.around(percent, 4)"
   ]
  },
  {
   "cell_type": "code",
   "execution_count": 137,
   "metadata": {
    "collapsed": false
   },
   "outputs": [
    {
     "data": {
      "text/plain": [
       "(0.0, 1.0)"
      ]
     },
     "execution_count": 137,
     "metadata": {},
     "output_type": "execute_result"
    },
    {
     "data": {
      "image/png": "[encoded data removed]",
      "text/plain": [
       "<matplotlib.figure.Figure at 0x7f769e329e10>"
      ]
     },
     "metadata": {},
     "output_type": "display_data"
    }
   ],
   "source": [
    "percent_df = pandas.DataFrame(percent)\n",
    "percent_df.plot.barh(stacked=True, color=color, legend=False);\n",
    "# percent_df.plot.barh(stacked=True, color=color)\n",
    "plt.xticks( [0.1, 0.2, 0.3, 0.4, 0.5, 0.6, 0.7, 0.8, 0.9, 1.0], ['10%', '20%', '30%', '40%', '50%', '60%', '70%', '80%', '90%', '100%'] )\n",
    "plt.gca().invert_yaxis()\n",
    "plt.xlim(0.0, 1.0)"
   ]
  },
  {
   "cell_type": "code",
   "execution_count": 79,
   "metadata": {
    "collapsed": false
   },
   "outputs": [
    {
     "name": "stdout",
     "output_type": "stream",
     "text": [
      "filter:  0.35124508519\n",
      "filter_only:  0.541414141414\n",
      "plus:  0.503276539974\n",
      "minus:  0.24246395806\n",
      "iji:  0.254259501966\n"
     ]
    }
   ],
   "source": [
    "FIL = np.array([ [False, False, False, False, False, False, False, False],\n",
    "                 [False, False, True, True, True, True, True, True],\n",
    "                 [False, False, False, True, True, True, True, True],\n",
    "                 [False, False, False, False, True, True, True, True],\n",
    "                 [False, False, False, False, False, True, True, True],\n",
    "                 [False, False, False, False, False, False, False, False],\n",
    "                 [False, False, False, False, False, False, False, False],\n",
    "                 [False, False, False, False, False, False, False, False] ])\n",
    "fil = trend(hoge, N, FIL)\n",
    "print 'filter: ', fil\n",
    "SUM = np.array([ [False, False, False, False, False, False, False, False],\n",
    "                 [True, True, True, True, True, True, True, True],\n",
    "                 [True, True, True, True, True, True, True, True],\n",
    "                 [True, True, True, True, True, True, True, True],\n",
    "                 [True, True, True, True, True, True, True, True],\n",
    "                 [False, False, False, False, False, False, False, False],\n",
    "                 [False, False, False, False, False, False, False, False],\n",
    "                 [False, False, False, False, False, False, False, False] ])\n",
    "fil = trend(hoge, N, FIL, SUM)\n",
    "print 'filter_only: ', fil\n",
    "pls = trend(hoge, N, PLUS)\n",
    "print 'plus: ', pls\n",
    "mns = trend(hoge, N, MINUS)\n",
    "print 'minus: ', mns\n",
    "iji = trend(hoge, N, IJI)\n",
    "print 'iji: ', iji"
   ]
  },
  {
   "cell_type": "markdown",
   "metadata": {},
   "source": [
    "### 雨→雨"
   ]
  },
  {
   "cell_type": "code",
   "execution_count": 117,
   "metadata": {
    "collapsed": false
   },
   "outputs": [
    {
     "name": "stdout",
     "output_type": "stream",
     "text": [
      "[[ 0.3133  0.1687  0.1928  0.1325  0.1205  0.0482  0.0241  0.    ]\n",
      " [ 0.22    0.18    0.2     0.2     0.12    0.08    0.      0.    ]\n",
      " [ 0.15    0.1     0.15    0.275   0.15    0.15    0.025   0.    ]\n",
      " [ 0.1622  0.1622  0.1622  0.1622  0.1892  0.1622  0.      0.    ]\n",
      " [ 0.1053  0.1842  0.2105  0.0526  0.1053  0.2105  0.1316  0.    ]\n",
      " [ 0.0938  0.2188  0.0625  0.125   0.2188  0.2188  0.0625  0.    ]\n",
      " [ 0.125   0.2188  0.0938  0.1562  0.125   0.125   0.0938  0.0625]\n",
      " [ 0.      0.1667  0.      0.      0.3333  0.      0.3333  0.1667]]\n"
     ]
    }
   ],
   "source": [
    "N = 8\n",
    "# 雨->雨の場合に切り出し\n",
    "hoge = np.vstack( [ nov_data[:, 7:9] ] )\n",
    "\n",
    "# s0->s0に遷移する確率みたいな感じを順番に数える\n",
    "percent = np.array([[0.0 for i in range(N)] for j in range(N)])\n",
    "for i in range(N):\n",
    "    for j in range(N):\n",
    "        percent[i, j] = float(np.count_nonzero( (hoge[:, 0] == i) & (hoge[:, 1] == j) )) / float(np.count_nonzero( (hoge[:, 0] == i)))\n",
    "print np.around(percent, 4)"
   ]
  },
  {
   "cell_type": "code",
   "execution_count": 118,
   "metadata": {
    "collapsed": false
   },
   "outputs": [
    {
     "data": {
      "image/png": "[encoded data removed]",
      "text/plain": [
       "<matplotlib.figure.Figure at 0x7f769dfbba50>"
      ]
     },
     "metadata": {},
     "output_type": "display_data"
    }
   ],
   "source": [
    "percent_df = pandas.DataFrame(percent)\n",
    "percent_df.plot.barh(stacked=True, color=color, legend=False);\n",
    "# percent_df.plot.barh(stacked=True, color=color)\n",
    "plt.xticks( [0.1, 0.2, 0.3, 0.4, 0.5, 0.6, 0.7, 0.8, 0.9, 1.0], ['10%', '20%', '30%', '40%', '50%', '60%', '70%', '80%', '90%', '100%'] )\n",
    "plt.gca().invert_yaxis()"
   ]
  },
  {
   "cell_type": "code",
   "execution_count": 82,
   "metadata": {
    "collapsed": false
   },
   "outputs": [
    {
     "name": "stdout",
     "output_type": "stream",
     "text": [
      "filter1-pls:  0.180865006553\n",
      "filter_only:  0.455445544554\n",
      "filter2-mns:  0.389252948886\n",
      "filter_only:  0.645652173913\n",
      "plus:  0.272608125819\n",
      "minus:  0.483617300131\n",
      "iji:  0.24377457405\n"
     ]
    }
   ],
   "source": [
    "FIL = np.array([ [False, True, True, True, True, True, True, True],\n",
    "                 [False, False, True, True, True, True, True, True],\n",
    "                 [False, False, False, True, True, True, True, True],\n",
    "                 [False, False, False, False, False, False, False, False],\n",
    "                 [False, False, False, False, False, False, False, False],\n",
    "                 [False, False, False, False, False, False, False, False],\n",
    "                 [False, False, False, False, False, False, False, False],\n",
    "                 [False, False, False, False, False, False, False, False] ])\n",
    "fil = trend(hoge, N, FIL)\n",
    "print 'filter1-pls: ', fil\n",
    "SUM = np.array([ [True, True, True, True, True, True, True, True],\n",
    "                 [True, True, True, True, True, True, True, True],\n",
    "                 [True, True, True, True, True, True, True, True],\n",
    "                 [False, False, False, False, False, False, False, False],\n",
    "                 [False, False, False, False, False, False, False, False],\n",
    "                 [False, False, False, False, False, False, False, False],\n",
    "                 [False, False, False, False, False, False, False, False],\n",
    "                 [False, False, False, False, False, False, False, False] ])\n",
    "fil = trend(hoge, N, FIL, SUM)\n",
    "print 'filter_only: ', fil\n",
    "FIL = np.array([ [False, False, False, False, False, False, False, False],\n",
    "                 [False, False, False, False, False, False, False, False],\n",
    "                 [False, False, False, False, False, False, False, False],\n",
    "                 [True, True, True, False, False, False, False, False],\n",
    "                 [True, True, True, True, False, False, False, False],\n",
    "                 [True, True, True, True, True, False, False, False],\n",
    "                 [True, True, True, True, True, True, False, False],\n",
    "                 [True, True, True, True, True, True, True, False] ])\n",
    "fil = trend(hoge, N, FIL)\n",
    "print 'filter2-mns: ', fil\n",
    "SUM = np.array([ [False, False, False, False, False, False, False, False],\n",
    "                 [False, False, False, False, False, False, False, False],\n",
    "                 [False, False, False, False, False, False, False, False],\n",
    "                 [True, True, True, True, True, True, True, True],\n",
    "                 [True, True, True, True, True, True, True, True],\n",
    "                 [True, True, True, True, True, True, True, True],\n",
    "                 [True, True, True, True, True, True, True, True],\n",
    "                 [True, True, True, True, True, True, True, True] ])\n",
    "fil = trend(hoge, N, FIL, SUM)\n",
    "print 'filter_only: ', fil\n",
    "pls = trend(hoge, N, PLUS)\n",
    "print 'plus: ', pls\n",
    "mns = trend(hoge, N, MINUS)\n",
    "print 'minus: ', mns\n",
    "iji = trend(hoge, N, IJI)\n",
    "print 'iji: ', iji"
   ]
  },
  {
   "cell_type": "markdown",
   "metadata": {},
   "source": [
    "# 曜日について解析"
   ]
  },
  {
   "cell_type": "code",
   "execution_count": 56,
   "metadata": {
    "collapsed": true
   },
   "outputs": [],
   "source": [
    "# 10日間の平日休日のリスト 平日が0、休日が1\n",
    "DAY = np.array([[0, 1, 1, 0, 0, 0, 0, 0, 1, 1], \n",
    "                [0, 0, 0, 0, 1, 1, 1, 0, 0, 0], \n",
    "                [1, 0, 1, 0, 0, 0, 1, 1, 0, 0]])"
   ]
  },
  {
   "cell_type": "markdown",
   "metadata": {},
   "source": [
    "### 休→休"
   ]
  },
  {
   "cell_type": "code",
   "execution_count": 119,
   "metadata": {
    "collapsed": false
   },
   "outputs": [
    {
     "name": "stdout",
     "output_type": "stream",
     "text": [
      "[[ 0.335   0.1576  0.1379  0.1084  0.133   0.0887  0.0296  0.0099]\n",
      " [ 0.1751  0.2203  0.1751  0.1695  0.1186  0.0847  0.0452  0.0113]\n",
      " [ 0.1307  0.1364  0.1875  0.2159  0.142   0.1307  0.0568  0.    ]\n",
      " [ 0.0794  0.1323  0.2328  0.1958  0.2011  0.1111  0.0317  0.0159]\n",
      " [ 0.1055  0.1256  0.1206  0.1608  0.196   0.1558  0.1256  0.0101]\n",
      " [ 0.0676  0.1126  0.1261  0.1171  0.1802  0.2523  0.1351  0.009 ]\n",
      " [ 0.0784  0.0784  0.0654  0.098   0.1307  0.2288  0.2614  0.0588]\n",
      " [ 0.0667  0.0333  0.      0.0667  0.1667  0.0333  0.3333  0.3   ]]\n"
     ]
    }
   ],
   "source": [
    "N=8\n",
    "# 休->休の場合に切り出し\n",
    "hoge = np.vstack( [sep_data[:, 1:3],\n",
    "                  sep_data[:, 8:],\n",
    "                  oct_data[:, 4:6],\n",
    "                  oct_data[:, 5:7],\n",
    "                  oct_data[:, 6:8],\n",
    "                  nov_data[:, 7:9]] )\n",
    "\n",
    "# s0->s0に遷移する確率みたいな感じを順番に数える\n",
    "percent = np.array([[0.0 for i in range(N)] for j in range(N)])\n",
    "for i in range(N):\n",
    "    for j in range(N):\n",
    "        percent[i, j] = float(np.count_nonzero( (hoge[:, 0] == i) & (hoge[:, 1] == j) )) / float(np.count_nonzero( (hoge[:, 0] == i)))\n",
    "print np.around(percent, 4)"
   ]
  },
  {
   "cell_type": "code",
   "execution_count": 120,
   "metadata": {
    "collapsed": false
   },
   "outputs": [
    {
     "data": {
      "image/png": "[encoded data removed]",
      "text/plain": [
       "<matplotlib.figure.Figure at 0x7f769dfbbd90>"
      ]
     },
     "metadata": {},
     "output_type": "display_data"
    }
   ],
   "source": [
    "percent_df = pandas.DataFrame(percent)\n",
    "percent_df.plot.barh(stacked=True, color=color, legend=False);\n",
    "# percent_df.plot.barh(stacked=True, color=color)\n",
    "plt.xticks( [0.1, 0.2, 0.3, 0.4, 0.5, 0.6, 0.7, 0.8, 0.9, 1.0], ['10%', '20%', '30%', '40%', '50%', '60%', '70%', '80%', '90%', '100%'] )\n",
    "plt.gca().invert_yaxis()"
   ]
  },
  {
   "cell_type": "code",
   "execution_count": 58,
   "metadata": {
    "collapsed": false
   },
   "outputs": [
    {
     "name": "stdout",
     "output_type": "stream",
     "text": [
      "plus:  0.374351371386\n",
      "minus:  0.387694588584\n",
      "iji:  0.23795404003\n"
     ]
    }
   ],
   "source": [
    "pls = trend(hoge, N, PLUS)\n",
    "print 'plus: ', pls\n",
    "mns = trend(hoge, N, MINUS)\n",
    "print 'minus: ', mns\n",
    "iji = trend(hoge, N, IJI)\n",
    "print 'iji: ', iji"
   ]
  },
  {
   "cell_type": "markdown",
   "metadata": {},
   "source": [
    "### 休→平"
   ]
  },
  {
   "cell_type": "code",
   "execution_count": 138,
   "metadata": {
    "collapsed": false
   },
   "outputs": [
    {
     "name": "stdout",
     "output_type": "stream",
     "text": [
      "[[ 0.3249  0.2081  0.1675  0.1066  0.1371  0.0406  0.0102  0.0051]\n",
      " [ 0.1411  0.2393  0.2883  0.1472  0.092   0.0675  0.0245  0.    ]\n",
      " [ 0.087   0.1925  0.1863  0.2795  0.1242  0.1118  0.0186  0.    ]\n",
      " [ 0.09    0.125   0.21    0.28    0.135   0.11    0.05    0.    ]\n",
      " [ 0.0773  0.1256  0.1159  0.1932  0.2174  0.2029  0.0676  0.    ]\n",
      " [ 0.0685  0.1187  0.1279  0.1553  0.1918  0.2374  0.0913  0.0091]\n",
      " [ 0.0818  0.0818  0.1132  0.1006  0.1321  0.2767  0.1698  0.044 ]\n",
      " [ 0.0882  0.1176  0.0588  0.0294  0.1471  0.1765  0.2647  0.1176]]\n"
     ]
    }
   ],
   "source": [
    "N = 8\n",
    "# 休->平の場合に切り出し\n",
    "hoge = np.vstack( [sep_data[:, 2:4],\n",
    "                  oct_data[:, 7:9],\n",
    "                  nov_data[:, 0:2],\n",
    "                  nov_data[:, 2:4],\n",
    "                  nov_data[:, 7:9]] )\n",
    "\n",
    "# s0->s0に遷移する確率みたいな感じを順番に数える\n",
    "percent = np.array([[0.0 for i in range(N)] for j in range(N)])\n",
    "for i in range(N):\n",
    "    for j in range(N):\n",
    "        percent[i, j] = float(np.count_nonzero( (hoge[:, 0] == i) & (hoge[:, 1] == j) )) / float(np.count_nonzero( (hoge[:, 0] == i)))\n",
    "print np.around(percent, 4)"
   ]
  },
  {
   "cell_type": "code",
   "execution_count": 139,
   "metadata": {
    "collapsed": false
   },
   "outputs": [
    {
     "data": {
      "text/plain": [
       "(0.0, 1.0)"
      ]
     },
     "execution_count": 139,
     "metadata": {},
     "output_type": "execute_result"
    },
    {
     "data": {
      "image/png": "[encoded data removed]",
      "text/plain": [
       "<matplotlib.figure.Figure at 0x7f769e7d1610>"
      ]
     },
     "metadata": {},
     "output_type": "display_data"
    }
   ],
   "source": [
    "percent_df = pandas.DataFrame(percent)\n",
    "percent_df.plot.barh(stacked=True, color=color, legend=False);\n",
    "# percent_df.plot.barh(stacked=True, color=color)\n",
    "plt.xticks( [0.1, 0.2, 0.3, 0.4, 0.5, 0.6, 0.7, 0.8, 0.9, 1.0], ['10%', '20%', '30%', '40%', '50%', '60%', '70%', '80%', '90%', '100%'] )\n",
    "plt.gca().invert_yaxis()\n",
    "plt.xlim(0.0, 1.0)"
   ]
  },
  {
   "cell_type": "code",
   "execution_count": 60,
   "metadata": {
    "collapsed": false
   },
   "outputs": [
    {
     "name": "stdout",
     "output_type": "stream",
     "text": [
      "plus:  0.346268656716\n",
      "minus:  0.417164179104\n",
      "iji:  0.236567164179\n"
     ]
    }
   ],
   "source": [
    "pls = trend(hoge, N, PLUS)\n",
    "print 'plus: ', pls\n",
    "mns = trend(hoge, N, MINUS)\n",
    "print 'minus: ', mns\n",
    "iji = trend(hoge, N, IJI)\n",
    "print 'iji: ', iji"
   ]
  },
  {
   "cell_type": "markdown",
   "metadata": {},
   "source": [
    "### 平→休"
   ]
  },
  {
   "cell_type": "code",
   "execution_count": 123,
   "metadata": {
    "collapsed": false
   },
   "outputs": [
    {
     "name": "stdout",
     "output_type": "stream",
     "text": [
      "[[ 0.3664  0.145   0.145   0.084   0.1145  0.0611  0.0687  0.0153]\n",
      " [ 0.1125  0.1812  0.1312  0.1625  0.1     0.2     0.0875  0.025 ]\n",
      " [ 0.1117  0.1675  0.1168  0.1929  0.1574  0.1827  0.0609  0.0102]\n",
      " [ 0.1675  0.0985  0.0985  0.1872  0.1872  0.1527  0.1034  0.0049]\n",
      " [ 0.0989  0.1319  0.1648  0.1374  0.1593  0.1484  0.1374  0.022 ]\n",
      " [ 0.0303  0.0545  0.103   0.1455  0.1515  0.3212  0.1939  0.    ]\n",
      " [ 0.1348  0.0449  0.0112  0.0562  0.1685  0.2472  0.2584  0.0787]\n",
      " [ 0.      0.      0.0455  0.      0.0455  0.1818  0.4091  0.3182]]\n"
     ]
    }
   ],
   "source": [
    "N = 8\n",
    "# 平->休の場合に切り出し\n",
    "hoge = np.vstack( [sep_data[:, 0:2],\n",
    "                  sep_data[:, 7:9],\n",
    "                  oct_data[:, 3:5],\n",
    "                  nov_data[:, 1:3],\n",
    "                  nov_data[:, 6:8]] )\n",
    "\n",
    "# s0->s0に遷移する確率みたいな感じを順番に数える\n",
    "percent = np.array([[0.0 for i in range(N)] for j in range(N)])\n",
    "for i in range(N):\n",
    "    for j in range(N):\n",
    "        percent[i, j] = float(np.count_nonzero( (hoge[:, 0] == i) & (hoge[:, 1] == j) )) / float(np.count_nonzero( (hoge[:, 0] == i)))\n",
    "print np.around(percent, 4)"
   ]
  },
  {
   "cell_type": "code",
   "execution_count": 124,
   "metadata": {
    "collapsed": false
   },
   "outputs": [
    {
     "data": {
      "image/png": "[encoded data removed]",
      "text/plain": [
       "<matplotlib.figure.Figure at 0x7f769e288450>"
      ]
     },
     "metadata": {},
     "output_type": "display_data"
    }
   ],
   "source": [
    "percent_df = pandas.DataFrame(percent)\n",
    "percent_df.plot.barh(stacked=True, color=color, legend=False);\n",
    "# percent_df.plot.barh(stacked=True, color=color)\n",
    "plt.xticks( [0.1, 0.2, 0.3, 0.4, 0.5, 0.6, 0.7, 0.8, 0.9, 1.0], ['10%', '20%', '30%', '40%', '50%', '60%', '70%', '80%', '90%', '100%'] )\n",
    "plt.gca().invert_yaxis()"
   ]
  },
  {
   "cell_type": "code",
   "execution_count": 62,
   "metadata": {
    "collapsed": false
   },
   "outputs": [
    {
     "name": "stdout",
     "output_type": "stream",
     "text": [
      "plus:  0.436031331593\n",
      "minus:  0.346388163621\n",
      "iji:  0.217580504787\n"
     ]
    }
   ],
   "source": [
    "# FIL = np.array([ [False, False, False, False, False, False, False, False],\n",
    "#                  [False, False, True, True, True, True, True, True],\n",
    "#                  [False, False, False, True, True, True, True, True],\n",
    "#                  [False, False, False, False, True, True, True, True],\n",
    "#                  [False, False, False, False, False, True, True, True],\n",
    "#                  [False, False, False, False, False, False, False, False],\n",
    "#                  [False, False, False, False, False, False, False, False],\n",
    "#                  [False, False, False, False, False, False, False, False] ])\n",
    "# fil = trend(hoge, N, FIL)\n",
    "# print 'filter: ', fil\n",
    "pls = trend(hoge, N, PLUS)\n",
    "print 'plus: ', pls\n",
    "mns = trend(hoge, N, MINUS)\n",
    "print 'minus: ', mns\n",
    "iji = trend(hoge, N, IJI)\n",
    "print 'iji: ', iji"
   ]
  },
  {
   "cell_type": "markdown",
   "metadata": {},
   "source": [
    "### 平→平"
   ]
  },
  {
   "cell_type": "code",
   "execution_count": 125,
   "metadata": {
    "collapsed": false
   },
   "outputs": [
    {
     "name": "stdout",
     "output_type": "stream",
     "text": [
      "[[ 0.4098  0.2033  0.1148  0.1148  0.0852  0.0525  0.0197  0.    ]\n",
      " [ 0.1749  0.2924  0.2037  0.1462  0.107   0.0601  0.0157  0.    ]\n",
      " [ 0.0801  0.1808  0.2654  0.2197  0.1373  0.0847  0.0275  0.0046]\n",
      " [ 0.0578  0.1071  0.2184  0.2719  0.1884  0.1221  0.0321  0.0021]\n",
      " [ 0.048   0.0981  0.1211  0.2109  0.2547  0.2109  0.0564  0.    ]\n",
      " [ 0.044   0.0615  0.0813  0.1275  0.1868  0.3692  0.1143  0.0154]\n",
      " [ 0.0258  0.0361  0.0464  0.0773  0.1237  0.2938  0.3093  0.0876]\n",
      " [ 0.      0.0541  0.027   0.027   0.027   0.1081  0.2973  0.4595]]\n"
     ]
    }
   ],
   "source": [
    "N = 8\n",
    "# 平->平の場合に切り出し\n",
    "hoge = np.vstack( [sep_data[:, 3:5],\n",
    "                  sep_data[:, 4:6],\n",
    "                  sep_data[:, 5:7],\n",
    "                  sep_data[:, 6:8],\n",
    "                  oct_data[:, 0:2],\n",
    "                  oct_data[:, 1:3],\n",
    "                  oct_data[:, 2:4],\n",
    "                  oct_data[:, 7:9],\n",
    "                  oct_data[:, 8:],\n",
    "                  nov_data[:, 3:5],\n",
    "                  nov_data[:, 4:6],\n",
    "                  nov_data[:, 8:]] )\n",
    "\n",
    "# s0->s0に遷移する確率みたいな感じを順番に数える\n",
    "percent = np.array([[0.0 for i in range(N)] for j in range(N)])\n",
    "for i in range(N):\n",
    "    for j in range(N):\n",
    "        percent[i, j] = float(np.count_nonzero( (hoge[:, 0] == i) & (hoge[:, 1] == j) )) / float(np.count_nonzero( (hoge[:, 0] == i)))\n",
    "print np.around(percent, 4)"
   ]
  },
  {
   "cell_type": "code",
   "execution_count": 126,
   "metadata": {
    "collapsed": false
   },
   "outputs": [
    {
     "data": {
      "image/png": "[encoded data removed]",
      "text/plain": [
       "<matplotlib.figure.Figure at 0x7f769e2a3b90>"
      ]
     },
     "metadata": {},
     "output_type": "display_data"
    }
   ],
   "source": [
    "percent_df = pandas.DataFrame(percent)\n",
    "percent_df.plot.barh(stacked=True, color=color, legend=False);\n",
    "# percent_df.plot.barh(stacked=True, color=color)\n",
    "plt.xticks( [0.1, 0.2, 0.3, 0.4, 0.5, 0.6, 0.7, 0.8, 0.9, 1.0], ['10%', '20%', '30%', '40%', '50%', '60%', '70%', '80%', '90%', '100%'] )\n",
    "plt.gca().invert_yaxis()"
   ]
  },
  {
   "cell_type": "code",
   "execution_count": 64,
   "metadata": {
    "collapsed": false
   },
   "outputs": [
    {
     "name": "stdout",
     "output_type": "stream",
     "text": [
      "plus:  0.346753717809\n",
      "minus:  0.346028291621\n",
      "iji:  0.307217990569\n"
     ]
    }
   ],
   "source": [
    "# FIL = np.array([ [False, False, False, False, False, False, False, False],\n",
    "#                  [False, False, True, True, True, True, True, True],\n",
    "#                  [False, False, False, True, True, True, True, True],\n",
    "#                  [False, False, False, False, True, True, True, True],\n",
    "#                  [False, False, False, False, False, True, True, True],\n",
    "#                  [False, False, False, False, False, False, False, False],\n",
    "#                  [False, False, False, False, False, False, False, False],\n",
    "#                  [False, False, False, False, False, False, False, False] ])\n",
    "# fil = trend(hoge, N, FIL)\n",
    "# print 'filter: ', fil\n",
    "pls = trend(hoge, N, PLUS)\n",
    "print 'plus: ', pls\n",
    "mns = trend(hoge, N, MINUS)\n",
    "print 'minus: ', mns\n",
    "iji = trend(hoge, N, IJI)\n",
    "print 'iji: ', iji"
   ]
  },
  {
   "cell_type": "code",
   "execution_count": null,
   "metadata": {
    "collapsed": true
   },
   "outputs": [],
   "source": []
  }
 ],
 "metadata": {
  "kernelspec": {
   "display_name": "Python 2",
   "language": "python",
   "name": "python2"
  },
  "language_info": {
   "codemirror_mode": {
    "name": "ipython",
    "version": 2
   },
   "file_extension": ".py",
   "mimetype": "text/x-python",
   "name": "python",
   "nbconvert_exporter": "python",
   "pygments_lexer": "ipython2",
   "version": "2.7.12"
  }
 },
 "nbformat": 4,
 "nbformat_minor": 1
}
